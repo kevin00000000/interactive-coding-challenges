{
 "cells": [
  {
   "cell_type": "markdown",
   "metadata": {},
   "source": [
    "This notebook was prepared by [Donne Martin](http://donnemartin.com). Source and license info is on [GitHub](https://github.com/donnemartin/interactive-coding-challenges)."
   ]
  },
  {
   "cell_type": "markdown",
   "metadata": {},
   "source": [
    "# Challenge Notebook"
   ]
  },
  {
   "cell_type": "markdown",
   "metadata": {},
   "source": [
    "## Problem: Add two numbers whose digits are stored in a linked list in reverse order.\n",
    "\n",
    "* [Constraints](#Constraints)\n",
    "* [Test Cases](#Test-Cases)\n",
    "* [Algorithm](#Algorithm)\n",
    "* [Code](#Code)\n",
    "* [Unit Test](#Unit-Test)\n",
    "* [Solution Notebook](#Solution-Notebook)"
   ]
  },
  {
   "cell_type": "markdown",
   "metadata": {},
   "source": [
    "## Constraints\n",
    "\n",
    "* Can we assume this is a non-circular, singly linked list?\n",
    "    * Yes\n",
    "* Do we expect the return to be in reverse order too?\n",
    "    * Yes\n",
    "* What if one of the inputs is None?\n",
    "    * Return None for an invalid operation\n",
    "* How large are these numbers--can they fit in memory?\n",
    "    * Yes\n",
    "* Can we assume we already have a linked list class that can be used for this problem?\n",
    "    * Yes\n",
    "* Can we assume this fits in memory?\n",
    "    * Yes"
   ]
  },
  {
   "cell_type": "markdown",
   "metadata": {},
   "source": [
    "## Test Cases\n",
    "\n",
    "* Empty list(s) -> None\n",
    "* Add values of different lengths\n",
    "    * Input 1: 6->5->None\n",
    "    * Input 2: 9->8->7\n",
    "    * Result: 5->4->8\n",
    "* Add values of same lengths\n",
    "    * Exercised from values of different lengths\n",
    "    * Done here for completeness"
   ]
  },
  {
   "cell_type": "markdown",
   "metadata": {},
   "source": [
    "## Algorithm\n",
    "\n",
    "Refer to the [Solution Notebook](http://nbviewer.ipython.org/github/donnemartin/interactive-coding-challenges/blob/master/linked_lists/add_reverse/add_reverse_solution.ipynb).  If you are stuck and need a hint, the solution notebook's algorithm discussion might be a good place to start."
   ]
  },
  {
   "cell_type": "markdown",
   "metadata": {},
   "source": [
    "## Code"
   ]
  },
  {
   "cell_type": "code",
   "execution_count": 7,
   "metadata": {},
   "outputs": [],
   "source": [
    "# %load ../linked_list/linked_list_k.py\n",
    "\"\"\"\"\"\"\n",
    "class Node(object):\n",
    "    \"\"\"\"\"\"\n",
    "    def __init__(self, data, next_node=None):\n",
    "        self.data = data\n",
    "        self.next_node = next_node\n",
    "\n",
    "    def __str__(self):\n",
    "        return self.data\n",
    "\n",
    "\n",
    "class LinkedList(object):\n",
    "    \"\"\"\"\"\"\n",
    "    def __init__(self, head=None):\n",
    "        self.head = head\n",
    "    \n",
    "    def __len__(self):\n",
    "        length = 0\n",
    "        temp = self.head\n",
    "        while temp is not None:\n",
    "            length += 1\n",
    "            temp = temp.next_node\n",
    "        return length\n",
    "\n",
    "    def insert_to_front(self, data):\n",
    "        if data is None:\n",
    "            return\n",
    "        self.head = Node(data, self.head)\n",
    "    \n",
    "    def append(self, data):\n",
    "        if data is None:\n",
    "            return\n",
    "        if self.head is None:\n",
    "            self.head = Node(data)\n",
    "            return\n",
    "        temp = self.head\n",
    "        while temp.next_node is not None:\n",
    "            temp = temp.next_node\n",
    "        temp.next_node = Node(data)\n",
    "\n",
    "    def find(self, data):\n",
    "        temp = self.head\n",
    "        while temp is not None:\n",
    "            if temp.data == data:\n",
    "                return temp\n",
    "            temp = temp.next_node\n",
    "        return None\n",
    "\n",
    "    def delete(self, data):\n",
    "        if self.head is None:\n",
    "            return\n",
    "        if self.head.data == data:\n",
    "            self.head = self.head.next_node\n",
    "            return\n",
    "        temp = self.head\n",
    "        while temp.next_node is not None:\n",
    "            if temp.next_node.data == data:\n",
    "                temp.next_node = temp.next_node.next_node\n",
    "                return\n",
    "            temp = temp.next_node\n",
    "        return None\n",
    "\n",
    "    def print_list(self):\n",
    "        temp = self.head\n",
    "        while temp is not None:\n",
    "            print(temp)\n",
    "            temp = temp.next_node\n",
    "\n",
    "    def get_all_data(self):\n",
    "        temp = self.head\n",
    "        result = []\n",
    "        while temp is not None:\n",
    "            result.append(temp.data)\n",
    "            temp = temp.next_node\n",
    "        return result"
   ]
  },
  {
   "cell_type": "code",
   "execution_count": 8,
   "metadata": {},
   "outputs": [],
   "source": [
    "class MyLinkedList_iter(LinkedList):\n",
    "    def __init__(self, head=None):\n",
    "        super().__init__(head)\n",
    "    \n",
    "    def add_reverse(self, first_list, second_list):\n",
    "        if first_list is None or second_list is None:\n",
    "            return None \n",
    "        temp_first = first_list.head\n",
    "        temp_second = second_list.head\n",
    "        carry = []\n",
    "        result = LinkedList()\n",
    "        while temp_first is not None or temp_second is not None:\n",
    "            first_num = temp_first.data if temp_first is not None else 0\n",
    "            second_num = temp_second.data if temp_second is not None else 0\n",
    "            result.append((first_num+second_num) % 10)\n",
    "            carry.append((first_num+second_num) // 10)\n",
    "            temp_first = temp_first.next_node if temp_first else None\n",
    "            temp_second = temp_second.next_node if temp_second else None\n",
    "        if len(result) == 0:\n",
    "            return result\n",
    "        temp = result.head.next_node\n",
    "        index = 0\n",
    "        while temp is not None:\n",
    "            temp.data = temp.data + carry[index]\n",
    "            if temp.data == 10:\n",
    "                carry[index+1] += 1\n",
    "                temp.data = temp.data % 10\n",
    "            index += 1\n",
    "            temp = temp.next_node\n",
    "        if carry[index] == 1:\n",
    "            result.append(1)\n",
    "        return result\n",
    "    \n",
    "class MyLinkedList(LinkedList):\n",
    "    def add_reverse(self, first_list, second_list):\n",
    "        if first_list is None or second_list is None:\n",
    "            return None\n",
    "        carry = 0\n",
    "        head = self._add_reverse(first_list.head, second_list.head, carry)\n",
    "        return LinkedList(head)\n",
    "\n",
    "    def _add_reverse(self, first_node, second_node, carry):\n",
    "        if first_node is None and second_node is None and not carry:\n",
    "            return None\n",
    "        first_num = first_node.data if first_node is not None else 0\n",
    "        second_num = second_node.data if second_node is not None else 0\n",
    "        node = Node((first_num+second_num+carry)%10)\n",
    "        carry = (first_num + second_num+carry)//10\n",
    "        first_node = first_node.next_node if first_node is not None else None\n",
    "        second_node = second_node.next_node if second_node is not None else None\n",
    "        node.next_node = self._add_reverse(first_node, second_node, carry)\n",
    "        return node"
   ]
  },
  {
   "cell_type": "markdown",
   "metadata": {},
   "source": [
    "## Unit Test"
   ]
  },
  {
   "cell_type": "markdown",
   "metadata": {},
   "source": [
    "\n",
    "\n",
    "**The following unit test is expected to fail until you solve the challenge.**"
   ]
  },
  {
   "cell_type": "code",
   "execution_count": 9,
   "metadata": {},
   "outputs": [
    {
     "name": "stdout",
     "output_type": "stream",
     "text": [
      "Test: Empty list(s)\n",
      "Test: Add values of different lengths\n",
      "Test: Add values of same lengths\n",
      "Success: test_add_reverse\n"
     ]
    }
   ],
   "source": [
    "# %load test_add_reverse.py\n",
    "from nose.tools import assert_equal\n",
    "\n",
    "\n",
    "class TestAddReverse(object):\n",
    "\n",
    "    def test_add_reverse(self):\n",
    "        print('Test: Empty list(s)')\n",
    "        assert_equal(MyLinkedList().add_reverse(None, None), None)\n",
    "        assert_equal(MyLinkedList().add_reverse(Node(5), None), None)\n",
    "        assert_equal(MyLinkedList().add_reverse(None, Node(10)), None)\n",
    "\n",
    "        print('Test: Add values of different lengths')\n",
    "        # Input 1: 6->5->None\n",
    "        # Input 2: 9->8->7\n",
    "        # Result: 5->4->8\n",
    "        first_list = MyLinkedList(Node(6))\n",
    "        first_list.append(5)\n",
    "        second_list = MyLinkedList(Node(9))\n",
    "        second_list.append(8)\n",
    "        second_list.append(7)\n",
    "        result = MyLinkedList().add_reverse(first_list, second_list)\n",
    "        assert_equal(result.get_all_data(), [5, 4, 8])\n",
    "\n",
    "        print('Test: Add values of same lengths')\n",
    "        # Input 1: 6->5->4\n",
    "        # Input 2: 9->8->7\n",
    "        # Result: 5->4->2->1\n",
    "        first_head = Node(6)\n",
    "        first_list = MyLinkedList(first_head)\n",
    "        first_list.append(5)\n",
    "        first_list.append(4)\n",
    "        second_head = Node(9)\n",
    "        second_list = MyLinkedList(second_head)\n",
    "        second_list.append(8)\n",
    "        second_list.append(7)\n",
    "        result = MyLinkedList().add_reverse(first_list, second_list)\n",
    "        assert_equal(result.get_all_data(), [5, 4, 2, 1])\n",
    "\n",
    "        print('Success: test_add_reverse')\n",
    "\n",
    "\n",
    "def main():\n",
    "    test = TestAddReverse()\n",
    "    test.test_add_reverse()\n",
    "\n",
    "\n",
    "if __name__ == '__main__':\n",
    "    main()"
   ]
  },
  {
   "cell_type": "markdown",
   "metadata": {},
   "source": [
    "## Solution Notebook\n",
    "\n",
    "Review the [Solution Notebook](http://nbviewer.ipython.org/github/donnemartin/interactive-coding-challenges/blob/master/linked_lists/add_reverse/add_reverse_solution.ipynb) for a discussion on algorithms and code solutions."
   ]
  }
 ],
 "metadata": {
  "kernelspec": {
   "display_name": "Python 3",
   "language": "python",
   "name": "python3"
  },
  "language_info": {
   "codemirror_mode": {
    "name": "ipython",
    "version": 3
   },
   "file_extension": ".py",
   "mimetype": "text/x-python",
   "name": "python",
   "nbconvert_exporter": "python",
   "pygments_lexer": "ipython3",
   "version": "3.6.4"
  }
 },
 "nbformat": 4,
 "nbformat_minor": 1
}
