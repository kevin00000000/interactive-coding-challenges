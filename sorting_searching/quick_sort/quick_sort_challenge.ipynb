{
 "cells": [
  {
   "cell_type": "markdown",
   "metadata": {},
   "source": [
    "This notebook was prepared by [Donne Martin](http://donnemartin.com). Source and license info is on [GitHub](https://github.com/donnemartin/interactive-coding-challenges)."
   ]
  },
  {
   "cell_type": "markdown",
   "metadata": {},
   "source": [
    "# Challenge Notebook"
   ]
  },
  {
   "cell_type": "markdown",
   "metadata": {},
   "source": [
    "## Problem: Implement quick sort.\n",
    "\n",
    "* [Constraints](#Constraints)\n",
    "* [Test Cases](#Test-Cases)\n",
    "* [Algorithm](#Algorithm)\n",
    "* [Code](#Code)\n",
    "* [Unit Test](#Unit-Test)\n",
    "* [Solution Notebook](#Solution-Notebook)"
   ]
  },
  {
   "cell_type": "markdown",
   "metadata": {},
   "source": [
    "## Constraints\n",
    "\n",
    "* Is a naive solution sufficient (ie not in-place)?\n",
    "    * Yes\n",
    "* Are duplicates allowed?\n",
    "    * Yes\n",
    "* Can we assume the input is valid?\n",
    "    * No\n",
    "* Can we assume this fits memory?\n",
    "    * Yes"
   ]
  },
  {
   "cell_type": "markdown",
   "metadata": {},
   "source": [
    "## Test Cases\n",
    "\n",
    "* None -> Exception\n",
    "* Empty input -> []\n",
    "* One element -> [element]\n",
    "* Two or more elements"
   ]
  },
  {
   "cell_type": "markdown",
   "metadata": {},
   "source": [
    "## Algorithm\n",
    "\n",
    "Refer to the [Solution Notebook](http://nbviewer.ipython.org/github/donnemartin/interactive-coding-challenges/blob/master/sorting_searching/quick_sort/quick_sort_solution.ipynb).  If you are stuck and need a hint, the solution notebook's algorithm discussion might be a good place to start."
   ]
  },
  {
   "cell_type": "markdown",
   "metadata": {},
   "source": [
    "## Code"
   ]
  },
  {
   "cell_type": "code",
   "execution_count": 1,
   "metadata": {},
   "outputs": [],
   "source": [
    "class QuickSort(object):\n",
    "    def sort(self, data):\n",
    "        self._sort(data, 0, len(data))\n",
    "        return data\n",
    "\n",
    "    def _sort(self, data, low, high):\n",
    "        if data is None:\n",
    "            raise TypeError\n",
    "        if high-low < 2:\n",
    "            return\n",
    "        mid_index = self._mid2(data, low, high)\n",
    "        self._sort(data, low, mid_index)\n",
    "        self._sort(data, mid_index+1, high)\n",
    "        return\n",
    "\n",
    "    def _mid(self, data, low, high):\n",
    "        i = low + 1\n",
    "        standard = data[low]\n",
    "        more_index = None\n",
    "        while i < high:\n",
    "            if data[i] < standard:\n",
    "                if more_index is not None:\n",
    "                    data[i], data[more_index] = data[more_index], data[i]\n",
    "                    more_index += 1\n",
    "            else:\n",
    "                if more_index is None:\n",
    "                    more_index = i\n",
    "            i += 1\n",
    "        if more_index is None:\n",
    "            data[low], data[high-1] = data[high-1], data[low]\n",
    "            return high-1\n",
    "        else:\n",
    "            data[low], data[more_index-1] = data[more_index-1], data[low]\n",
    "        return more_index-1\n",
    "\n",
    "    def _mid2(self, data, low, high):\n",
    "        i = low + 1\n",
    "        j = high\n",
    "        standard = data[low]\n",
    "        while i < j:\n",
    "            while i < j:\n",
    "                if data[i] > standard:\n",
    "                    break\n",
    "                i += 1\n",
    "            if i < j:\n",
    "                while i < j:\n",
    "                    if data[j-1] < standard:\n",
    "                        data[i], data[j-1] = data[j-1], data[i]\n",
    "                        break\n",
    "                    j -= 1\n",
    "                if i < j:\n",
    "                    j -= 1\n",
    "                    i += 1\n",
    "                    continue     \n",
    "        data[low], data[j-1] = data[j-1], data[low]\n",
    "        return j-1"
   ]
  },
  {
   "cell_type": "markdown",
   "metadata": {},
   "source": [
    "## Unit Test\n",
    "\n",
    "\n",
    "\n",
    "**The following unit test is expected to fail until you solve the challenge.**"
   ]
  },
  {
   "cell_type": "code",
   "execution_count": 2,
   "metadata": {},
   "outputs": [
    {
     "name": "stdout",
     "output_type": "stream",
     "text": [
      "None input\n",
      "Empty input\n",
      "One element\n",
      "Two or more elements\n",
      "Success: test_quick_sort\n",
      "\n"
     ]
    }
   ],
   "source": [
    "# %load test_quick_sort.py\n",
    "from nose.tools import assert_equal, assert_raises\n",
    "\n",
    "\n",
    "class TestQuickSort(object):\n",
    "\n",
    "    def test_quick_sort(self):\n",
    "        quick_sort = QuickSort()\n",
    "\n",
    "        print('None input')\n",
    "        assert_raises(TypeError, quick_sort.sort, None)\n",
    "\n",
    "        print('Empty input')\n",
    "        assert_equal(quick_sort.sort([]), [])\n",
    "\n",
    "        print('One element')\n",
    "        assert_equal(quick_sort.sort([5]), [5])\n",
    "\n",
    "        print('Two or more elements')\n",
    "        data = [5, 1, 7, 2, 6, -3, 5, 7, -1]\n",
    "        assert_equal(quick_sort.sort(data), sorted(data))\n",
    "\n",
    "        print('Success: test_quick_sort\\n')\n",
    "\n",
    "\n",
    "def main():\n",
    "    test = TestQuickSort()\n",
    "    test.test_quick_sort()\n",
    "\n",
    "\n",
    "if __name__ == '__main__':\n",
    "    main()"
   ]
  },
  {
   "cell_type": "markdown",
   "metadata": {},
   "source": [
    "## Solution Notebook\n",
    "\n",
    "Review the [Solution Notebook](http://nbviewer.ipython.org/github/donnemartin/interactive-coding-challenges/blob/master/sorting_searching/quick_sort/quick_sort_solution.ipynb) for a discussion on algorithms and code solutions."
   ]
  }
 ],
 "metadata": {
  "kernelspec": {
   "display_name": "Python 3",
   "language": "python",
   "name": "python3"
  },
  "language_info": {
   "codemirror_mode": {
    "name": "ipython",
    "version": 3
   },
   "file_extension": ".py",
   "mimetype": "text/x-python",
   "name": "python",
   "nbconvert_exporter": "python",
   "pygments_lexer": "ipython3",
   "version": "3.6.4"
  }
 },
 "nbformat": 4,
 "nbformat_minor": 1
}
