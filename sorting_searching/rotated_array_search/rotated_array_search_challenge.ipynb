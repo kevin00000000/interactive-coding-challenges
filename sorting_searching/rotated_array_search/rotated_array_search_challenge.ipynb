{
 "cells": [
  {
   "cell_type": "markdown",
   "metadata": {},
   "source": [
    "This notebook was prepared by [Donne Martin](https://github.com/donnemartin). Source and license info is on [GitHub](https://github.com/donnemartin/interactive-coding-challenges)."
   ]
  },
  {
   "cell_type": "markdown",
   "metadata": {},
   "source": [
    "# Challenge Notebook"
   ]
  },
  {
   "cell_type": "markdown",
   "metadata": {},
   "source": [
    "## Problem: Find an element in a sorted array that has been rotated a number of times.\n",
    "\n",
    "* [Constraints](#Constraints)\n",
    "* [Test Cases](#Test-Cases)\n",
    "* [Algorithm](#Algorithm)\n",
    "* [Code](#Code)\n",
    "* [Unit Test](#Unit-Test)\n",
    "* [Solution Notebook](#Solution-Notebook)"
   ]
  },
  {
   "cell_type": "markdown",
   "metadata": {},
   "source": [
    "## Constraints\n",
    "\n",
    "* Is the input an array of ints?\n",
    "    * Yes\n",
    "* Do we know how many times the array was rotated?\n",
    "    * No\n",
    "* Was the array originally sorted in increasing or decreasing order?\n",
    "    * Increasing\n",
    "* For the output, do we return the index?\n",
    "    * Yes\n",
    "* Can we assume the inputs are valid?\n",
    "    * No\n",
    "* Can we assume this fits memory?\n",
    "    * Yes"
   ]
  },
  {
   "cell_type": "markdown",
   "metadata": {},
   "source": [
    "## Test Cases\n",
    "\n",
    "* None -> Exception\n",
    "* [] -> None\n",
    "* Not found -> None\n",
    "* General case with duplicates\n",
    "* General case without duplicates"
   ]
  },
  {
   "cell_type": "markdown",
   "metadata": {},
   "source": [
    "## Algorithm\n",
    "\n",
    "Refer to the [Solution Notebook]().  If you are stuck and need a hint, the solution notebook's algorithm discussion might be a good place to start."
   ]
  },
  {
   "cell_type": "markdown",
   "metadata": {},
   "source": [
    "## Code"
   ]
  },
  {
   "cell_type": "code",
   "execution_count": 1,
   "metadata": {},
   "outputs": [],
   "source": [
    "class Array(object):\n",
    "    \n",
    "    def search_sorted_array(self, array, val):\n",
    "        if array is None or val is None:\n",
    "            raise TypeError('array or val cannot be None')\n",
    "        if not array:\n",
    "            return None\n",
    "        return self._search_sorted_array(array, val, start=0, end=len(array)-1)\n",
    "\n",
    "    def _search_sorted_array(self, array, val, start, end):\n",
    "        if end < start:\n",
    "            return None\n",
    "        mid = (start + end) // 2\n",
    "        if array[mid] == val:\n",
    "            return mid\n",
    "        if array[start] < array[mid]:\n",
    "            if array[start]<=val<array[mid]:\n",
    "                return self._search_sorted_array(array, val, start, mid-1)\n",
    "            else:\n",
    "                return self._search_sorted_array(array, val, mid+1, end)\n",
    "        elif array[end] > array[mid]:\n",
    "            if array[mid] < val <=array[end]:\n",
    "                return self._search_sorted_array(array, val, mid+1, end)\n",
    "            else:\n",
    "                return self._search_sorted_array(array, val, start, mid-1)\n",
    "        else:\n",
    "            if array[mid] == array[end] and array[mid] == array[start]:\n",
    "                result = self._search_sorted_array(array, val, start, mid-1)\n",
    "                if not result:\n",
    "                    return self._search_sorted_array(array, val, mid+1, end)\n",
    "                else:\n",
    "                    return result\n",
    "            elif array[mid] == array[end]:\n",
    "                return self._search_sorted_array(array, val, start, mid-1)\n",
    "            else:\n",
    "                return self._search_sorted_array(array, val, mid+1, end)"
   ]
  },
  {
   "cell_type": "markdown",
   "metadata": {},
   "source": [
    "## Unit Test"
   ]
  },
  {
   "cell_type": "markdown",
   "metadata": {},
   "source": [
    "**The following unit test is expected to fail until you solve the challenge.**"
   ]
  },
  {
   "cell_type": "code",
   "execution_count": 2,
   "metadata": {},
   "outputs": [
    {
     "name": "stdout",
     "output_type": "stream",
     "text": [
      "Success: test_search_sorted_array\n"
     ]
    }
   ],
   "source": [
    "# %load test_search_sorted_array.py\n",
    "from nose.tools import assert_equal, assert_raises\n",
    "\n",
    "\n",
    "class TestArray(object):\n",
    "\n",
    "    def test_search_sorted_array(self):\n",
    "        array = Array()\n",
    "        assert_raises(TypeError, array.search_sorted_array, None)\n",
    "        assert_equal(array.search_sorted_array([3, 1, 2], 0), None)\n",
    "        assert_equal(array.search_sorted_array([3, 1, 2], 0), None)\n",
    "        data = [10, 12, 14,  1,  3,  5,  6,  7,  8,  9]\n",
    "        assert_equal(array.search_sorted_array(data, val=1), 3)\n",
    "        data = [ 1,  1,  2,  1,  1,  1,  1,  1,  1,  1]\n",
    "        assert_equal(array.search_sorted_array(data, val=2), 2)\n",
    "        print('Success: test_search_sorted_array')\n",
    "\n",
    "\n",
    "def main():\n",
    "    test = TestArray()\n",
    "    test.test_search_sorted_array()\n",
    "\n",
    "\n",
    "if __name__ == '__main__':\n",
    "    main()"
   ]
  },
  {
   "cell_type": "markdown",
   "metadata": {},
   "source": [
    "## Solution Notebook\n",
    "\n",
    "Review the [Solution Notebook]() for a discussion on algorithms and code solutions."
   ]
  }
 ],
 "metadata": {
  "kernelspec": {
   "display_name": "Python 3",
   "language": "python",
   "name": "python3"
  },
  "language_info": {
   "codemirror_mode": {
    "name": "ipython",
    "version": 3
   },
   "file_extension": ".py",
   "mimetype": "text/x-python",
   "name": "python",
   "nbconvert_exporter": "python",
   "pygments_lexer": "ipython3",
   "version": "3.6.4"
  }
 },
 "nbformat": 4,
 "nbformat_minor": 1
}
