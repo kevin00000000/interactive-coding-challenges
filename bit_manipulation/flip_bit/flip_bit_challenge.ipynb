{
 "cells": [
  {
   "cell_type": "markdown",
   "metadata": {},
   "source": [
    "This notebook was prepared by [Donne Martin](https://github.com/donnemartin). Source and license info is on [GitHub](https://github.com/donnemartin/interactive-coding-challenges)."
   ]
  },
  {
   "cell_type": "markdown",
   "metadata": {},
   "source": [
    "# Challenge Notebook"
   ]
  },
  {
   "cell_type": "markdown",
   "metadata": {},
   "source": [
    "## Problem: Flip one bit from 0 to 1 to maximize the longest sequence of 1s.\n",
    "\n",
    "* [Constraints](#Constraints)\n",
    "* [Test Cases](#Test-Cases)\n",
    "* [Algorithm](#Algorithm)\n",
    "* [Code](#Code)\n",
    "* [Unit Test](#Unit-Test)\n",
    "* [Solution Notebook](#Solution-Notebook)"
   ]
  },
  {
   "cell_type": "markdown",
   "metadata": {},
   "source": [
    "## Constraints\n",
    "\n",
    "* Is the input an int, base 2?\n",
    "    * Yes\n",
    "* Can we assume the input is a 32 bit number?\n",
    "    * Yes\n",
    "* Do we have to validate the length of the input?\n",
    "    * No\n",
    "* Is the output an int?\n",
    "    * Yes\n",
    "* Can we assume the inputs are valid?\n",
    "    * No\n",
    "* Can we assume we are using a positive number since Python doesn't have an >>> operator?\n",
    "    * Yes\n",
    "* Can we assume this fits memory?\n",
    "    * Yes"
   ]
  },
  {
   "cell_type": "markdown",
   "metadata": {},
   "source": [
    "## Test Cases\n",
    "\n",
    "* None -> Exception\n",
    "* All 1's -> Count of 1s\n",
    "* All 0's -> 1\n",
    "* General case\n",
    "    * 0000 1111 1101 1101 1111 0011 1111 0000 -> 10 (ten)"
   ]
  },
  {
   "cell_type": "markdown",
   "metadata": {},
   "source": [
    "## Algorithm\n",
    "\n",
    "Refer to the [Solution Notebook]().  If you are stuck and need a hint, the solution notebook's algorithm discussion might be a good place to start."
   ]
  },
  {
   "cell_type": "markdown",
   "metadata": {},
   "source": [
    "## Code"
   ]
  },
  {
   "cell_type": "code",
   "execution_count": 1,
   "metadata": {},
   "outputs": [],
   "source": [
    "class Bits(object):\n",
    "\n",
    "    def flip_bit(self, num):\n",
    "        # TODO: Implement me\n",
    "        pass"
   ]
  },
  {
   "cell_type": "markdown",
   "metadata": {},
   "source": [
    "## Unit Test"
   ]
  },
  {
   "cell_type": "markdown",
   "metadata": {},
   "source": [
    "**The following unit test is expected to fail until you solve the challenge.**"
   ]
  },
  {
   "cell_type": "code",
   "execution_count": 2,
   "metadata": {},
   "outputs": [
    {
     "name": "stdout",
     "output_type": "stream",
     "text": [
      "Success: test_print_binary\n"
     ]
    }
   ],
   "source": [
    "# %load test_flip_bit.py\n",
    "from nose.tools import assert_equal, assert_raises\n",
    "\n",
    "class Bits(object):\n",
    "    MAX_BITS = 32\n",
    "\n",
    "    def flip_bit(self, num):\n",
    "        if num is None:\n",
    "            raise TypeError(\"Invalid argument\")\n",
    "        if num == -1:\n",
    "            return self.MAX_BITS\n",
    "        if num == 0:\n",
    "            return 1\n",
    "        seen = self._build_seen_list(num)\n",
    "        max_result = 0\n",
    "        looking_for = 0\n",
    "        for index, count in enumerate(seen):\n",
    "            result = 0\n",
    "            if looking_for == 1:\n",
    "                looking_for = 0\n",
    "                continue\n",
    "            if index == 0:\n",
    "                if count != 0:\n",
    "                    try:\n",
    "                        result = seen[index+1]+1\n",
    "                    except IndexError:\n",
    "                        result = 1\n",
    "            elif index == len(seen)-1:\n",
    "                result = seen[index-1]+1\n",
    "            else:\n",
    "                if count == 1:\n",
    "                    result = seen[index+1]+seen[index-1]+1\n",
    "                else:\n",
    "                    result = max(seen[index+1], seen[index-1]) + 1\n",
    "            if result > max_result:\n",
    "                max_result = result\n",
    "            looking_for = 1 if looking_for == 0 else 0\n",
    "        return max_result\n",
    "\n",
    "    def _build_seen_list(self, num):\n",
    "        seen = []\n",
    "        looking_for = 0\n",
    "        count = 0\n",
    "        for _ in range(0, self.MAX_BITS):\n",
    "            if num & 1 == 0:\n",
    "                if looking_for == 0:\n",
    "                    count += 1\n",
    "                else:\n",
    "                    seen.append(count)\n",
    "                    count = 1\n",
    "                    looking_for = 0\n",
    "            else:\n",
    "                if looking_for == 0:\n",
    "                    seen.append(count)\n",
    "                    count = 1\n",
    "\n",
    "                    looking_for = 1\n",
    "                else:\n",
    "                    count += 1\n",
    "            num >>= 1\n",
    "        seen.append(count)\n",
    "        return seen\n",
    "\n",
    "\n",
    "class TestBits(object):\n",
    "\n",
    "    def test_flip_bit(self):\n",
    "        bits = Bits()\n",
    "        assert_raises(TypeError, bits.flip_bit, None)\n",
    "        assert_equal(bits.flip_bit(0), 1)\n",
    "        assert_equal(bits.flip_bit(-1), bits.MAX_BITS)\n",
    "        num = int('00001111110111011110001111110000', base=2)\n",
    "        expected = 10\n",
    "        assert_equal(bits.flip_bit(num), expected)\n",
    "        num = int('00000100111011101111100011111011', base=2)\n",
    "        expected = 9\n",
    "        assert_equal(bits.flip_bit(num), expected)\n",
    "        num = int('00010011101110111110001111101111', base=2)\n",
    "        expected = 10\n",
    "        assert_equal(bits.flip_bit(num), expected)\n",
    "        print('Success: test_print_binary')\n",
    "\n",
    "\n",
    "def main():\n",
    "    test = TestBits()\n",
    "    test.test_flip_bit()\n",
    "\n",
    "\n",
    "if __name__ == '__main__':\n",
    "    main()"
   ]
  },
  {
   "cell_type": "markdown",
   "metadata": {},
   "source": [
    "## Solution Notebook\n",
    "\n",
    "Review the [Solution Notebook]() for a discussion on algorithms and code solutions."
   ]
  }
 ],
 "metadata": {
  "kernelspec": {
   "display_name": "Python 3",
   "language": "python",
   "name": "python3"
  },
  "language_info": {
   "codemirror_mode": {
    "name": "ipython",
    "version": 3
   },
   "file_extension": ".py",
   "mimetype": "text/x-python",
   "name": "python",
   "nbconvert_exporter": "python",
   "pygments_lexer": "ipython3",
   "version": "3.6.2"
  }
 },
 "nbformat": 4,
 "nbformat_minor": 1
}
