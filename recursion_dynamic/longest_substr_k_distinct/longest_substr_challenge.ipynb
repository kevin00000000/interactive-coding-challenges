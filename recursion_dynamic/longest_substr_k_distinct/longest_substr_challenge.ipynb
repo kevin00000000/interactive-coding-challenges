{
 "cells": [
  {
   "cell_type": "markdown",
   "metadata": {},
   "source": [
    "This notebook was prepared by [Donne Martin](https://github.com/donnemartin). Source and license info is on [GitHub](https://github.com/donnemartin/interactive-coding-challenges)."
   ]
  },
  {
   "cell_type": "markdown",
   "metadata": {},
   "source": [
    "# Challenge Notebook"
   ]
  },
  {
   "cell_type": "markdown",
   "metadata": {},
   "source": [
    "## Problem: Find the longest substring with at most k distinct characters.\n",
    "\n",
    "* [Constraints](#Constraints)\n",
    "* [Test Cases](#Test-Cases)\n",
    "* [Algorithm](#Algorithm)\n",
    "* [Code](#Code)\n",
    "* [Unit Test](#Unit-Test)\n",
    "* [Solution Notebook](#Solution-Notebook)"
   ]
  },
  {
   "cell_type": "markdown",
   "metadata": {},
   "source": [
    "## Constraints\n",
    "\n",
    "* Can we assume the inputs are valid?\n",
    "    * No\n",
    "* Can we assume the strings are ASCII?\n",
    "    * Yes\n",
    "* Is this case sensitive?\n",
    "    * Yes\n",
    "* Is a substring a contiguous block of chars?\n",
    "    * Yes\n",
    "* Do we expect an int as a result?\n",
    "    * Yes\n",
    "* Can we assume this fits memory?\n",
    "    * Yes"
   ]
  },
  {
   "cell_type": "markdown",
   "metadata": {},
   "source": [
    "## Test Cases\n",
    "\n",
    "* None -> TypeError\n",
    "* '', k = 3 -> 0\n",
    "* 'abcabcdefgghiij', k=3 -> 6\n",
    "* 'abcabcdefgghighij', k=3 -> 7"
   ]
  },
  {
   "cell_type": "markdown",
   "metadata": {},
   "source": [
    "## Algorithm\n",
    "\n",
    "Refer to the [Solution Notebook]().  If you are stuck and need a hint, the solution notebook's algorithm discussion might be a good place to start."
   ]
  },
  {
   "cell_type": "markdown",
   "metadata": {},
   "source": [
    "## Code"
   ]
  },
  {
   "cell_type": "code",
   "execution_count": 1,
   "metadata": {},
   "outputs": [],
   "source": [
    "class Solution(object):\n",
    "    \n",
    "    def __init__(self):\n",
    "        self.results = []\n",
    "        self.longest_count = 0\n",
    "    \n",
    "    def longest_substr(self, s, k):\n",
    "        if s is None:\n",
    "            raise TypeError(\"param is None\")\n",
    "        if len(s) == 0:\n",
    "            return 0\n",
    "        n = len(s)\n",
    "        self._init_result(n, k)\n",
    "        self._fill_result(s, k)\n",
    "        return self.longest_count\n",
    "    \n",
    "    def _init_result(self, n, k):\n",
    "        for _ in range(n):\n",
    "            self.results.append(0)\n",
    "    \n",
    "    def _fill_result(self, s, k):\n",
    "        char_to_index_map = {}\n",
    "        for index, char in enumerate(s):\n",
    "            char_to_index_map[char] = index\n",
    "            if index == 0:\n",
    "                self.results[index] = 1\n",
    "                self.longest_count = 1\n",
    "                continue\n",
    "            if len(char_to_index_map.keys()) <= k:\n",
    "                self.results[index] = self.results[index-1] + 1\n",
    "            else:\n",
    "                min_index = min(char_to_index_map.values())\n",
    "                self.results[index] = index - min_index\n",
    "                del char_to_index_map[s[min_index]]\n",
    "            if self.results[index] > self.longest_count:\n",
    "                self.longest_count = self.results[index]"
   ]
  },
  {
   "cell_type": "markdown",
   "metadata": {},
   "source": [
    "## Unit Test"
   ]
  },
  {
   "cell_type": "markdown",
   "metadata": {},
   "source": [
    "**The following unit test is expected to fail until you solve the challenge.**"
   ]
  },
  {
   "cell_type": "code",
   "execution_count": 2,
   "metadata": {},
   "outputs": [
    {
     "name": "stdout",
     "output_type": "stream",
     "text": [
      "Success: test_longest_substr\n"
     ]
    }
   ],
   "source": [
    "# %load test_longest_substr.py\n",
    "from nose.tools import assert_equal, assert_raises\n",
    "\n",
    "\n",
    "class TestSolution(object):\n",
    "\n",
    "    def test_longest_substr(self):\n",
    "        solution = Solution()\n",
    "        assert_raises(TypeError, solution.longest_substr, None)\n",
    "        assert_equal(solution.longest_substr('', k=3), 0)\n",
    "        assert_equal(solution.longest_substr('abcabcdefgghiij', k=3), 6)\n",
    "        assert_equal(solution.longest_substr('abcabcdefgghighij', k=3), 7)\n",
    "        print('Success: test_longest_substr')\n",
    "\n",
    "\n",
    "def main():\n",
    "    test = TestSolution()\n",
    "    test.test_longest_substr()\n",
    "\n",
    "\n",
    "if __name__ == '__main__':\n",
    "    main()"
   ]
  },
  {
   "cell_type": "markdown",
   "metadata": {},
   "source": [
    "## Solution Notebook\n",
    "\n",
    "Review the [Solution Notebook]() for a discussion on algorithms and code solutions."
   ]
  }
 ],
 "metadata": {
  "kernelspec": {
   "display_name": "Python 3",
   "language": "python",
   "name": "python3"
  },
  "language_info": {
   "codemirror_mode": {
    "name": "ipython",
    "version": 3
   },
   "file_extension": ".py",
   "mimetype": "text/x-python",
   "name": "python",
   "nbconvert_exporter": "python",
   "pygments_lexer": "ipython3",
   "version": "3.6.2"
  }
 },
 "nbformat": 4,
 "nbformat_minor": 1
}
