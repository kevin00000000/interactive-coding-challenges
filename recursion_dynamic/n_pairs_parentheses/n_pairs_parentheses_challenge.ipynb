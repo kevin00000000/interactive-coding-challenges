{
 "cells": [
  {
   "cell_type": "markdown",
   "metadata": {},
   "source": [
    "This notebook was prepared by [Rishi Rajasekaran](https://github.com/rishihot55). Source and license info is available on [Github](https://github.com/donnemartin/interactive-coding-challenges)."
   ]
  },
  {
   "cell_type": "markdown",
   "metadata": {},
   "source": [
    "# Challenge Notebook"
   ]
  },
  {
   "cell_type": "markdown",
   "metadata": {},
   "source": [
    "## Problem: Find all valid combinations of n-pairs of parentheses.\n",
    "\n",
    "* [Constraints](#Constraints)\n",
    "* [Test Cases](#Test-Cases)\n",
    "* [Algorithm](#Algorithm)\n",
    "* [Code](#Code)\n",
    "* [Unit Test](#Unit-Test)\n",
    "* [Solution Notebook](#Solution-Notebook)"
   ]
  },
  {
   "cell_type": "markdown",
   "metadata": {},
   "source": [
    "## Constraints\n",
    "\n",
    "* Is the input an integer representing the number of pairs?\n",
    "    * Yes\n",
    "* Can we assume the inputs are valid?\n",
    "    * No\n",
    "* Is the output a list of valid combinations?\n",
    "    * Yes\n",
    "* Should the output have duplicates?\n",
    "    * No\n",
    "* Can we assume this fits memory?\n",
    "    * Yes"
   ]
  },
  {
   "cell_type": "markdown",
   "metadata": {},
   "source": [
    "## Test Cases\n",
    "\n",
    "<pre>\n",
    "* None -> Exception\n",
    "* Negative -> Exception\n",
    "* 0 -> []\n",
    "* 1 -> ['()']\n",
    "* 2 -> ['(())', '()()']\n",
    "* 3 -> ['((()))', '(()())', '(())()', '()(())', '()()()']\n",
    "</pre>"
   ]
  },
  {
   "cell_type": "markdown",
   "metadata": {},
   "source": [
    "## Algorithm\n",
    "\n",
    "Refer to the [Solution Notebook](http://nbviewer.ipython.org/github/donnemartin/interactive-coding-challenges/blob/master/recursion_dynamic/n_pairs_parentheses/n_pairs_parentheses_solution.ipynb).  If you are stuck and need a hint, the solution notebook's algorithm discussion might be a good place to start."
   ]
  },
  {
   "cell_type": "markdown",
   "metadata": {},
   "source": [
    "## Code"
   ]
  },
  {
   "cell_type": "code",
   "execution_count": 1,
   "metadata": {},
   "outputs": [],
   "source": [
    "class Parentheses(object):\n",
    "    def __init__(self):\n",
    "        self.results = []\n",
    "        self.result_counts = []\n",
    "\n",
    "    def find_pair(self, num):\n",
    "        if num is None or type(num) is not int:\n",
    "            raise TypeError(\"param is None or is not int\")\n",
    "        if num < 0:\n",
    "            raise ValueError(\"num smaller than zero\")\n",
    "        if num == 0:\n",
    "            return []\n",
    "        self._init_result(num)\n",
    "        self._fill_result(num)\n",
    "        return list(sorted(self.results[num]))\n",
    "    \n",
    "    def _init_result(self, num):\n",
    "        for _ in range(num+1):\n",
    "            self.results.append(set())\n",
    "            self.result_counts.append(0)\n",
    "\n",
    "    def _fill_result(self, num):\n",
    "        for i in range(1, num+1):\n",
    "            if i == 1:\n",
    "                self.result_counts[i] = 1\n",
    "                self.results[i].add(\"()\")\n",
    "            else:\n",
    "                self.result_counts[i] = self.result_counts[i-1] * 3 - 1\n",
    "                for item in self.results[i-1]:\n",
    "                    self.results[i].add('(' + item + ')')  \n",
    "                for item in self.results[i-1]:\n",
    "                    self.results[i].add('()' + item)\n",
    "                for item in self.results[i-1]:\n",
    "                    self.results[i].add(item + '()')"
   ]
  },
  {
   "cell_type": "markdown",
   "metadata": {},
   "source": [
    "## Unit Test"
   ]
  },
  {
   "cell_type": "code",
   "execution_count": 2,
   "metadata": {},
   "outputs": [
    {
     "name": "stdout",
     "output_type": "stream",
     "text": [
      "Success: test_pair_parentheses\n"
     ]
    }
   ],
   "source": [
    "# %load test_n_pairs_parentheses.py\n",
    "from nose.tools import assert_equal, assert_raises\n",
    "\n",
    "\n",
    "class TestPairParentheses(object):\n",
    "\n",
    "    def test_pair_parentheses(self):\n",
    "        parentheses = Parentheses()\n",
    "        assert_raises(TypeError, parentheses.find_pair, None)\n",
    "        assert_raises(ValueError, parentheses.find_pair, -1)\n",
    "        assert_equal(parentheses.find_pair(0), [])\n",
    "        assert_equal(parentheses.find_pair(1), ['()'])\n",
    "        assert_equal(parentheses.find_pair(2), ['(())',\n",
    "                                                '()()'])\n",
    "        assert_equal(parentheses.find_pair(3), ['((()))',\n",
    "                                                '(()())',\n",
    "                                                '(())()',\n",
    "                                                '()(())',\n",
    "                                                '()()()'])\n",
    "        print('Success: test_pair_parentheses')\n",
    "\n",
    "\n",
    "def main():\n",
    "    test = TestPairParentheses()\n",
    "    test.test_pair_parentheses()\n",
    "\n",
    "\n",
    "if __name__ == '__main__':\n",
    "    main()"
   ]
  },
  {
   "cell_type": "markdown",
   "metadata": {},
   "source": [
    "## Solution Notebook\n",
    "\n",
    "Review the [Solution Notebook](http://nbviewer.ipython.org/github/donnemartin/interactive-coding-challenges/blob/master/recursion_dynamic/n_pairs_parentheses/n_pairs_parentheses_solution.ipynb) for a discussion on algorithms and code solutions."
   ]
  }
 ],
 "metadata": {
  "kernelspec": {
   "display_name": "Python 3",
   "language": "python",
   "name": "python3"
  },
  "language_info": {
   "codemirror_mode": {
    "name": "ipython",
    "version": 3
   },
   "file_extension": ".py",
   "mimetype": "text/x-python",
   "name": "python",
   "nbconvert_exporter": "python",
   "pygments_lexer": "ipython3",
   "version": "3.6.2"
  }
 },
 "nbformat": 4,
 "nbformat_minor": 1
}
