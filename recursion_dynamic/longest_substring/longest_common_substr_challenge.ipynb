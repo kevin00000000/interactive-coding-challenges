{
 "cells": [
  {
   "cell_type": "markdown",
   "metadata": {},
   "source": [
    "This notebook was prepared by [Donne Martin](https://github.com/donnemartin). Source and license info is on [GitHub](https://github.com/donnemartin/interactive-coding-challenges)."
   ]
  },
  {
   "cell_type": "markdown",
   "metadata": {},
   "source": [
    "# Challenge Notebook"
   ]
  },
  {
   "cell_type": "markdown",
   "metadata": {},
   "source": [
    "## Problem: Given two strings, find the longest common substring.\n",
    "\n",
    "* [Constraints](#Constraints)\n",
    "* [Test Cases](#Test-Cases)\n",
    "* [Algorithm](#Algorithm)\n",
    "* [Code](#Code)\n",
    "* [Unit Test](#Unit-Test)\n",
    "* [Solution Notebook](#Solution-Notebook)"
   ]
  },
  {
   "cell_type": "markdown",
   "metadata": {},
   "source": [
    "## Constraints\n",
    "\n",
    "* Can we assume the inputs are valid?\n",
    "    * No\n",
    "* Can we assume the strings are ASCII?\n",
    "    * Yes\n",
    "* Is this case sensitive?\n",
    "    * Yes\n",
    "* Is a substring a contiguous block of chars?\n",
    "    * Yes\n",
    "* Do we expect a string as a result?\n",
    "    * Yes\n",
    "* Can we assume this fits memory?\n",
    "    * Yes"
   ]
  },
  {
   "cell_type": "markdown",
   "metadata": {},
   "source": [
    "## Test Cases\n",
    "\n",
    "* str0 or str1 is None -> Exception\n",
    "* str0 or str1 equals 0 -> ''\n",
    "* General case\n",
    "\n",
    "str0 = 'ABCDEFGHIJ'\n",
    "str1 = 'FOOBCDBCDE'\n",
    "\n",
    "result: 'BCDE'"
   ]
  },
  {
   "cell_type": "markdown",
   "metadata": {},
   "source": [
    "## Algorithm\n",
    "\n",
    "Refer to the [Solution Notebook]().  If you are stuck and need a hint, the solution notebook's algorithm discussion might be a good place to start."
   ]
  },
  {
   "cell_type": "markdown",
   "metadata": {},
   "source": [
    "## Code"
   ]
  },
  {
   "cell_type": "code",
   "execution_count": 1,
   "metadata": {},
   "outputs": [],
   "source": [
    "class StringCompare(object):\n",
    "\n",
    "    def __init__(self):\n",
    "        self.results = []\n",
    "        self.results_seq = []\n",
    "        self.longest_i = 0\n",
    "        self.longest_j = 0\n",
    "\n",
    "    def longest_common_substr(self, s1, s2):\n",
    "        if s1 is None or s2 is None:\n",
    "            raise TypeError(\"param is None\")\n",
    "        if len(s1) == 0 or len(s2) == 0:\n",
    "            return ''\n",
    "        self._init_result(len(s1), len(s2))\n",
    "        self._fill_result(s1, s2)\n",
    "        return ''.join(self.results_seq[self.longest_i][self.longest_j])\n",
    "\n",
    "    def _init_result(self, n1, n2):\n",
    "        for i in range(n1+1):\n",
    "            self.results.append([])\n",
    "            self.results_seq.append([])\n",
    "            for _ in range(n2+1):\n",
    "                self.results[i].append(0)\n",
    "                self.results_seq[i].append([])\n",
    "\n",
    "    def _fill_result(self, s1, s2):\n",
    "        max_count = 0\n",
    "        for i in range(len(s1)+1):\n",
    "            for j in range(len(s2)+1):\n",
    "                if i == 0 or j == 0:\n",
    "                    self.results[i][j] = 0\n",
    "                    continue\n",
    "                if s1[i-1] == s2[j-1]:\n",
    "                    self.results[i][j] = self.results[i-1][j-1] + 1\n",
    "                    self.results_seq[i][j].extend(self.results_seq[i-1][j-1])\n",
    "                    self.results_seq[i][j].append(s1[i-1])\n",
    "                else:\n",
    "                    self.results[i][j] = 0\n",
    "                if self.results[i][j] > max_count:\n",
    "                    max_count = self.results[i][j]\n",
    "                    self.longest_i = i\n",
    "                    self.longest_j = j"
   ]
  },
  {
   "cell_type": "markdown",
   "metadata": {},
   "source": [
    "## Unit Test"
   ]
  },
  {
   "cell_type": "markdown",
   "metadata": {},
   "source": [
    "**The following unit test is expected to fail until you solve the challenge.**"
   ]
  },
  {
   "cell_type": "code",
   "execution_count": 2,
   "metadata": {},
   "outputs": [
    {
     "name": "stdout",
     "output_type": "stream",
     "text": [
      "Success: test_longest_common_substr\n"
     ]
    }
   ],
   "source": [
    "# %load test_longest_common_substr.py\n",
    "from nose.tools import assert_equal, assert_raises\n",
    "\n",
    "\n",
    "class TestLongestCommonSubstr(object):\n",
    "\n",
    "    def test_longest_common_substr(self):\n",
    "        str_comp = StringCompare()\n",
    "        assert_raises(TypeError, str_comp.longest_common_substr, None, None)\n",
    "        assert_equal(str_comp.longest_common_substr('', ''), '')\n",
    "        str0 = 'ABCDEFGHIJ'\n",
    "        str1 = 'FOOBCDBCDE'\n",
    "        expected = 'BCDE'\n",
    "        assert_equal(str_comp.longest_common_substr(str0, str1), expected)\n",
    "        print('Success: test_longest_common_substr')\n",
    "\n",
    "\n",
    "def main():\n",
    "    test = TestLongestCommonSubstr()\n",
    "    test.test_longest_common_substr()\n",
    "\n",
    "\n",
    "if __name__ == '__main__':\n",
    "    main()"
   ]
  },
  {
   "cell_type": "markdown",
   "metadata": {},
   "source": [
    "## Solution Notebook\n",
    "\n",
    "Review the [Solution Notebook]() for a discussion on algorithms and code solutions."
   ]
  }
 ],
 "metadata": {
  "kernelspec": {
   "display_name": "Python 3",
   "language": "python",
   "name": "python3"
  },
  "language_info": {
   "codemirror_mode": {
    "name": "ipython",
    "version": 3
   },
   "file_extension": ".py",
   "mimetype": "text/x-python",
   "name": "python",
   "nbconvert_exporter": "python",
   "pygments_lexer": "ipython3",
   "version": "3.6.2"
  }
 },
 "nbformat": 4,
 "nbformat_minor": 1
}
