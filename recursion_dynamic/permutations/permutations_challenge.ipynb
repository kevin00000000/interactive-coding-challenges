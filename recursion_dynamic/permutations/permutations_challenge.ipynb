{
 "cells": [
  {
   "cell_type": "markdown",
   "metadata": {},
   "source": [
    "This notebook was prepared by [Donne Martin](https://github.com/donnemartin). Source and license info is on [GitHub](https://github.com/donnemartin/interactive-coding-challenges)."
   ]
  },
  {
   "cell_type": "markdown",
   "metadata": {},
   "source": [
    "# Challenge Notebook"
   ]
  },
  {
   "cell_type": "markdown",
   "metadata": {},
   "source": [
    "## Problem: Find all permutations of an input string.\n",
    "\n",
    "* [Constraints](#Constraints)\n",
    "* [Test Cases](#Test-Cases)\n",
    "* [Algorithm](#Algorithm)\n",
    "* [Code](#Code)\n",
    "* [Unit Test](#Unit-Test)\n",
    "* [Solution Notebook](#Solution-Notebook)"
   ]
  },
  {
   "cell_type": "markdown",
   "metadata": {},
   "source": [
    "## Constraints\n",
    "\n",
    "* Can the input have duplicates?\n",
    "    * Yes\n",
    "* Can the output have duplicates?\n",
    "    * No\n",
    "* Is the output a list of strings?\n",
    "    * Yes\n",
    "* Do we have to output the results in sorted order?\n",
    "    * No\n",
    "* Can we assume the inputs are valid?\n",
    "    * No\n",
    "* Can we assume this fits memory?\n",
    "    * Yes"
   ]
  },
  {
   "cell_type": "markdown",
   "metadata": {},
   "source": [
    "## Test Cases\n",
    "\n",
    "<pre>\n",
    "* None -> None\n",
    "* '' -> ''\n",
    "* 'AABC' -> ['AABC', 'AACB', 'ABAC', 'ABCA',\n",
    "             'ACAB', 'ACBA', 'BAAC', 'BACA',\n",
    "             'BCAA', 'CAAB', 'CABA', 'CBAA']\n",
    "</pre>"
   ]
  },
  {
   "cell_type": "markdown",
   "metadata": {},
   "source": [
    "## Algorithm\n",
    "\n",
    "Refer to the [Solution Notebook]().  If you are stuck and need a hint, the solution notebook's algorithm discussion might be a good place to start."
   ]
  },
  {
   "cell_type": "markdown",
   "metadata": {},
   "source": [
    "## Code"
   ]
  },
  {
   "cell_type": "code",
   "execution_count": 1,
   "metadata": {},
   "outputs": [],
   "source": [
    "class Permutations(object):\n",
    "    def __init__(self):\n",
    "        self.result = []\n",
    "\n",
    "    def find_permutations(self, string):\n",
    "        if string is None or type(string) is not str:\n",
    "            return None\n",
    "        if not string:\n",
    "            return ''\n",
    "        array = [_ for _ in string]\n",
    "        self._find_permutations(array, 0, len(string)-1)\n",
    "        return list(sorted(set(self.result)))\n",
    "    \n",
    "    def _find_permutations(self, array, start, end):\n",
    "        if start == end:\n",
    "            self.result.append(''.join(array))\n",
    "            return\n",
    "        for i in range(start, end+1):\n",
    "            array[start], array[i] = array[i], array[start]\n",
    "            self._find_permutations(array, start+1, end)\n",
    "            array[i], array[start] = array[start], array[i]"
   ]
  },
  {
   "cell_type": "markdown",
   "metadata": {},
   "source": [
    "## Unit Test"
   ]
  },
  {
   "cell_type": "markdown",
   "metadata": {},
   "source": [
    "**The following unit test is expected to fail until you solve the challenge.**"
   ]
  },
  {
   "cell_type": "code",
   "execution_count": 2,
   "metadata": {},
   "outputs": [
    {
     "name": "stdout",
     "output_type": "stream",
     "text": [
      "Success: test_permutations\n"
     ]
    }
   ],
   "source": [
    "# %load test_permutations.py\n",
    "from nose.tools import assert_equal\n",
    "\n",
    "\n",
    "class TestPermutations(object):\n",
    "\n",
    "    def test_permutations(self):\n",
    "        permutations = Permutations()\n",
    "        assert_equal(permutations.find_permutations(None), None)\n",
    "        assert_equal(permutations.find_permutations(''), '')\n",
    "        string = 'AABC'\n",
    "        expected = [\n",
    "            'AABC', 'AACB', 'ABAC', 'ABCA',\n",
    "            'ACAB', 'ACBA', 'BAAC', 'BACA',\n",
    "            'BCAA', 'CAAB', 'CABA', 'CBAA'\n",
    "        ]\n",
    "        assert_equal(permutations.find_permutations(string), expected)\n",
    "        print('Success: test_permutations')\n",
    "\n",
    "\n",
    "def main():\n",
    "    test = TestPermutations()\n",
    "    test.test_permutations()\n",
    "\n",
    "\n",
    "if __name__ == '__main__':\n",
    "    main()"
   ]
  },
  {
   "cell_type": "markdown",
   "metadata": {},
   "source": [
    "## Solution Notebook\n",
    "\n",
    "Review the [Solution Notebook]() for a discussion on algorithms and code solutions."
   ]
  }
 ],
 "metadata": {
  "kernelspec": {
   "display_name": "Python 3",
   "language": "python",
   "name": "python3"
  },
  "language_info": {
   "codemirror_mode": {
    "name": "ipython",
    "version": 3
   },
   "file_extension": ".py",
   "mimetype": "text/x-python",
   "name": "python",
   "nbconvert_exporter": "python",
   "pygments_lexer": "ipython3",
   "version": "3.6.4"
  }
 },
 "nbformat": 4,
 "nbformat_minor": 1
}
