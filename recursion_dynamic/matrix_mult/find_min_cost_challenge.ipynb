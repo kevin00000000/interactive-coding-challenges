{
 "cells": [
  {
   "cell_type": "markdown",
   "metadata": {},
   "source": [
    "This notebook was prepared by [Donne Martin](https://github.com/donnemartin). Source and license info is on [GitHub](https://github.com/donnemartin/interactive-coding-challenges)."
   ]
  },
  {
   "cell_type": "markdown",
   "metadata": {},
   "source": [
    "# Challenge Notebook"
   ]
  },
  {
   "cell_type": "markdown",
   "metadata": {},
   "source": [
    "## Problem: Given a list of 2x2 matrices, minimize the cost of matrix multiplication.\n",
    "\n",
    "* [Constraints](#Constraints)\n",
    "* [Test Cases](#Test-Cases)\n",
    "* [Algorithm](#Algorithm)\n",
    "* [Code](#Code)\n",
    "* [Unit Test](#Unit-Test)\n",
    "* [Solution Notebook](#Solution-Notebook)"
   ]
  },
  {
   "cell_type": "markdown",
   "metadata": {},
   "source": [
    "## Constraints\n",
    "\n",
    "* Do we just want to calculate the cost and not list the actual order of operations?\n",
    "    * Yes\n",
    "* Can we assume the inputs are valid?\n",
    "    * No\n",
    "* Can we assume this fits memory?\n",
    "    * Yes"
   ]
  },
  {
   "cell_type": "markdown",
   "metadata": {},
   "source": [
    "## Test Cases\n",
    "\n",
    "* None -> Exception\n",
    "* [] -> 0\n",
    "* [Matrix(2, 3), Matrix(3, 6), Matrix(6, 4), Matrix(4, 5)] -> 124"
   ]
  },
  {
   "cell_type": "markdown",
   "metadata": {},
   "source": [
    "## Algorithm\n",
    "\n",
    "Refer to the [Solution Notebook]().  If you are stuck and need a hint, the solution notebook's algorithm discussion might be a good place to start."
   ]
  },
  {
   "cell_type": "markdown",
   "metadata": {},
   "source": [
    "## Code"
   ]
  },
  {
   "cell_type": "code",
   "execution_count": 7,
   "metadata": {},
   "outputs": [],
   "source": [
    "class Matrix(object):\n",
    "\n",
    "    def __init__(self, first, second):\n",
    "        self.first = first\n",
    "        self.second = second"
   ]
  },
  {
   "cell_type": "code",
   "execution_count": 8,
   "metadata": {},
   "outputs": [],
   "source": [
    "import sys\n",
    "\n",
    "\n",
    "# top-down\n",
    "class MatrixMultiplicationCost(object):\n",
    "\n",
    "    def __init__(self):\n",
    "        self.temp_result = []\n",
    "\n",
    "    def _init_result(self, n):\n",
    "        for i in range(n):\n",
    "            self.temp_result.append([])\n",
    "            for j in range(n):\n",
    "                self.temp_result[i].append(None)\n",
    "\n",
    "    def find_min_cost(self, array):\n",
    "        if array is None:\n",
    "            raise TypeError(\"param is None\")\n",
    "        if len(array) < 2:\n",
    "            return 0\n",
    "        self._init_result(len(array))\n",
    "        min_matrix, min_count = self._find_min_cost(array, 0, len(array)-1)\n",
    "        return min_count\n",
    "\n",
    "    def _find_min_cost(self, array, start, end):\n",
    "        if self.temp_result[start][end] != None:\n",
    "            return self.temp_result\n",
    "        min_count = sys.maxsize\n",
    "        min_matrix = None\n",
    "        if end - start == 1:\n",
    "            min_count = array[start].first*array[start].second*array[end].second\n",
    "            min_matrix = Matrix(array[start].first, array[end].second)\n",
    "            return min_matrix, min_count\n",
    "        for i in range(start, end):\n",
    "            temp_matrix = None\n",
    "            temp_count = 0\n",
    "            temp_matrix1 = None\n",
    "            temp_count1 = 0\n",
    "            if i == start:\n",
    "                temp_matrix, temp_count = self._find_min_cost(array, start+1, end)\n",
    "                temp_count += array[start].first * array[start].second * temp_matrix.second\n",
    "                temp_matrix = Matrix(array[start].first, temp_matrix.second)\n",
    "            elif i == end - 1:\n",
    "                temp_matrix, temp_count = self._find_min_cost(array, start, end-1)\n",
    "                temp_count += temp_matrix.first * array[end].first * array[end].second\n",
    "                temp_matrix = Matrix(temp_matrix.first, array[end].second)\n",
    "            else:\n",
    "                temp_matrix, temp_count = self._find_min_cost(array, start, start+(i-start))\n",
    "                temp_matrix1, temp_count1 = self._find_min_cost(array, start+(i-start+1), end)\n",
    "                temp_count += temp_count1 + (temp_matrix.first * temp_matrix.second * temp_matrix1.second)\n",
    "                temp_matrix = Matrix(temp_matrix.first, temp_matrix1.second)\n",
    "            if temp_count < min_count:\n",
    "                min_count = temp_count\n",
    "                min_matrix = temp_matrix\n",
    "        self.temp_result[start][end] = (min_matrix, min_count)\n",
    "        return min_matrix, min_count\n",
    "\n",
    "\n",
    "# bottom-up\n",
    "class MatrixMultiplicationCostBottomUp(object):\n",
    "\n",
    "    def __init__(self):\n",
    "        self.results = []\n",
    "        self.results_count = []\n",
    "\n",
    "    def _init_result(self, n):\n",
    "        for _ in range(n):\n",
    "            self.results.append([])\n",
    "            self.results_count.append([])\n",
    "            for __ in range(n):\n",
    "                self.results[_].append(None)\n",
    "                self.results_count[_].append(sys.maxsize)\n",
    "\n",
    "    def find_min_cost(self, array):\n",
    "        if array is None:\n",
    "            raise TypeError(\"param is None\")\n",
    "        if len(array) < 2:\n",
    "            return 0\n",
    "        self._init_result(len(array))\n",
    "        self._fill_result(array)\n",
    "        return self.results_count[0][len(array)-1]\n",
    "\n",
    "    def _fill_result(self, array):\n",
    "        n = len(array)\n",
    "        for i in range(n-1, -1, -1):\n",
    "            for j in range(n):\n",
    "                if i > j:\n",
    "                    self.results[i][j] = None\n",
    "                    self.results_count[i][j] = sys.maxsize\n",
    "                    continue\n",
    "                if i == j:\n",
    "                    self.results[i][j] = array[i]\n",
    "                    self.results_count[i][i] = 0\n",
    "                    continue\n",
    "                for _ in range(j-i):\n",
    "                    temp_matrix = Matrix(self.results[i][i+_].first, self.results[i+_+1][j].second)\n",
    "                    temp_count = self.results_count[i][i+_] + self.results_count[i+_+1][j] + self.results[i][i+_].first*self.results[i][i+_].second*self.results[i+_+1][j].second\n",
    "                    if temp_count < self.results_count[i][j]:\n",
    "                        self.results[i][j] = temp_matrix\n",
    "                        self.results_count[i][j] = temp_count"
   ]
  },
  {
   "cell_type": "markdown",
   "metadata": {},
   "source": [
    "## Unit Test"
   ]
  },
  {
   "cell_type": "markdown",
   "metadata": {},
   "source": [
    "**The following unit test is expected to fail until you solve the challenge.**"
   ]
  },
  {
   "cell_type": "code",
   "execution_count": 9,
   "metadata": {},
   "outputs": [
    {
     "name": "stdout",
     "output_type": "stream",
     "text": [
      "Success: test_find_min_cost\n"
     ]
    }
   ],
   "source": [
    "# %load test_find_min_cost.py\n",
    "from nose.tools import assert_equal, assert_raises\n",
    "\n",
    "\n",
    "class TestMatrixMultiplicationCost(object):\n",
    "\n",
    "    def test_find_min_cost(self):\n",
    "        matrix_mult_cost = MatrixMultiplicationCost()\n",
    "        assert_raises(TypeError, matrix_mult_cost.find_min_cost, None)\n",
    "        assert_equal(matrix_mult_cost.find_min_cost([]), 0)\n",
    "        matrices = [Matrix(2, 3),\n",
    "                    Matrix(3, 6),\n",
    "                    Matrix(6, 4),\n",
    "                    Matrix(4, 5)]\n",
    "        expected_cost = 124\n",
    "        assert_equal(matrix_mult_cost.find_min_cost(matrices), expected_cost)\n",
    "        print('Success: test_find_min_cost')\n",
    "\n",
    "\n",
    "def main():\n",
    "    test = TestMatrixMultiplicationCost()\n",
    "    test.test_find_min_cost()\n",
    "\n",
    "\n",
    "if __name__ == '__main__':\n",
    "    main()"
   ]
  },
  {
   "cell_type": "markdown",
   "metadata": {},
   "source": [
    "## Solution Notebook\n",
    "\n",
    "Review the [Solution Notebook]() for a discussion on algorithms and code solutions."
   ]
  }
 ],
 "metadata": {
  "kernelspec": {
   "display_name": "Python 3",
   "language": "python",
   "name": "python3"
  },
  "language_info": {
   "codemirror_mode": {
    "name": "ipython",
    "version": 3
   },
   "file_extension": ".py",
   "mimetype": "text/x-python",
   "name": "python",
   "nbconvert_exporter": "python",
   "pygments_lexer": "ipython3",
   "version": "3.6.2"
  }
 },
 "nbformat": 4,
 "nbformat_minor": 1
}
