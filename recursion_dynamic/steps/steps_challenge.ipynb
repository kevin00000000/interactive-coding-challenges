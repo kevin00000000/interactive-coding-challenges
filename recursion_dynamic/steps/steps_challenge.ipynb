{
 "cells": [
  {
   "cell_type": "markdown",
   "metadata": {},
   "source": [
    "This notebook was prepared by [Donne Martin](https://github.com/donnemartin). Source and license info is on [GitHub](https://github.com/donnemartin/interactive-coding-challenges)."
   ]
  },
  {
   "cell_type": "markdown",
   "metadata": {},
   "source": [
    "# Challenge Notebook"
   ]
  },
  {
   "cell_type": "markdown",
   "metadata": {},
   "source": [
    "## Problem: You are running up n steps.  If you can take a single, double, or triple step, how many possible ways are there to run up to the nth step?\n",
    "\n",
    "* [Constraints](#Constraints)\n",
    "* [Test Cases](#Test-Cases)\n",
    "* [Algorithm](#Algorithm)\n",
    "* [Code](#Code)\n",
    "* [Unit Test](#Unit-Test)\n",
    "* [Solution Notebook](#Solution-Notebook)"
   ]
  },
  {
   "cell_type": "markdown",
   "metadata": {},
   "source": [
    "## Constraints\n",
    "\n",
    "* If n == 0, what should the result be?\n",
    "    * Go with 1, but discuss different approaches\n",
    "* Can we assume the inputs are valid?\n",
    "    * No\n",
    "* Can we assume this fits memory?\n",
    "    * Yes"
   ]
  },
  {
   "cell_type": "markdown",
   "metadata": {},
   "source": [
    "## Test Cases\n",
    "\n",
    "* None or negative input -> Exception\n",
    "* n == 0 -> 1\n",
    "* n == 1 -> 1\n",
    "* n == 2 -> 2\n",
    "* n == 3 -> 4\n",
    "* n == 4 -> 7\n",
    "* n == 10 -> 274"
   ]
  },
  {
   "cell_type": "markdown",
   "metadata": {},
   "source": [
    "## Algorithm\n",
    "\n",
    "Refer to the [Solution Notebook]().  If you are stuck and need a hint, the solution notebook's algorithm discussion might be a good place to start."
   ]
  },
  {
   "cell_type": "markdown",
   "metadata": {},
   "source": [
    "## Code"
   ]
  },
  {
   "cell_type": "code",
   "execution_count": 1,
   "metadata": {},
   "outputs": [],
   "source": [
    "class Steps(object):\n",
    "    def __init__(self):\n",
    "        self.results = []\n",
    "    \n",
    "    def count_ways(self, n):\n",
    "        if n is None or type(n) is not int:\n",
    "            raise TypeError(\"param is None\")\n",
    "        if n < 0:\n",
    "            raise TypeError(\"n is smaller than zero\")\n",
    "        self._init_result(n)\n",
    "        self._fill_result(n)\n",
    "        return self.results[n]\n",
    "\n",
    "    def _init_result(self, n):\n",
    "        for _ in range(n+1):\n",
    "            self.results.append(0)\n",
    "        \n",
    "    def _fill_result(self, n):\n",
    "        for i in range(n+1):\n",
    "            if i == 0 or i == 1:\n",
    "                self.results[i] = 1\n",
    "                continue\n",
    "            if i == 2:\n",
    "                self.results[i] = 2\n",
    "                continue\n",
    "            self.results[i] = self.results[i-3] + self.results[i-2] + self.results[i-1]"
   ]
  },
  {
   "cell_type": "markdown",
   "metadata": {},
   "source": [
    "## Unit Test"
   ]
  },
  {
   "cell_type": "markdown",
   "metadata": {},
   "source": [
    "**The following unit test is expected to fail until you solve the challenge.**"
   ]
  },
  {
   "cell_type": "code",
   "execution_count": 2,
   "metadata": {},
   "outputs": [
    {
     "name": "stdout",
     "output_type": "stream",
     "text": [
      "Success: test_steps\n"
     ]
    }
   ],
   "source": [
    "# %load test_steps.py\n",
    "from nose.tools import assert_equal, assert_raises\n",
    "\n",
    "\n",
    "class TestSteps(object):\n",
    "\n",
    "    def test_steps(self):\n",
    "        steps = Steps()\n",
    "        assert_raises(TypeError, steps.count_ways, None)\n",
    "        assert_raises(TypeError, steps.count_ways, -1)\n",
    "        assert_equal(steps.count_ways(0), 1)\n",
    "        assert_equal(steps.count_ways(1), 1)\n",
    "        assert_equal(steps.count_ways(2), 2)\n",
    "        assert_equal(steps.count_ways(3), 4)\n",
    "        assert_equal(steps.count_ways(4), 7)\n",
    "        assert_equal(steps.count_ways(10), 274)\n",
    "        print('Success: test_steps')\n",
    "\n",
    "\n",
    "def main():\n",
    "    test = TestSteps()\n",
    "    test.test_steps()\n",
    "\n",
    "\n",
    "if __name__ == '__main__':\n",
    "    main()"
   ]
  },
  {
   "cell_type": "markdown",
   "metadata": {},
   "source": [
    "## Solution Notebook\n",
    "\n",
    "Review the [Solution Notebook]() for a discussion on algorithms and code solutions."
   ]
  }
 ],
 "metadata": {
  "kernelspec": {
   "display_name": "Python 3",
   "language": "python",
   "name": "python3"
  },
  "language_info": {
   "codemirror_mode": {
    "name": "ipython",
    "version": 3
   },
   "file_extension": ".py",
   "mimetype": "text/x-python",
   "name": "python",
   "nbconvert_exporter": "python",
   "pygments_lexer": "ipython3",
   "version": "3.6.4"
  }
 },
 "nbformat": 4,
 "nbformat_minor": 1
}
