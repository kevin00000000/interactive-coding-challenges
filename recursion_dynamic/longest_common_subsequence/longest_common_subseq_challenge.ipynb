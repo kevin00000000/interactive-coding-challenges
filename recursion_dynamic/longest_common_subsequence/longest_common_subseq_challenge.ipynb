{
 "cells": [
  {
   "cell_type": "markdown",
   "metadata": {},
   "source": [
    "This notebook was prepared by [Donne Martin](https://github.com/donnemartin). Source and license info is on [GitHub](https://github.com/donnemartin/interactive-coding-challenges)."
   ]
  },
  {
   "cell_type": "markdown",
   "metadata": {},
   "source": [
    "# Challenge Notebook"
   ]
  },
  {
   "cell_type": "markdown",
   "metadata": {},
   "source": [
    "## Problem: Given two strings, find the longest common subsequence.\n",
    "\n",
    "* [Constraints](#Constraints)\n",
    "* [Test Cases](#Test-Cases)\n",
    "* [Algorithm](#Algorithm)\n",
    "* [Code](#Code)\n",
    "* [Unit Test](#Unit-Test)\n",
    "* [Solution Notebook](#Solution-Notebook)"
   ]
  },
  {
   "cell_type": "markdown",
   "metadata": {},
   "source": [
    "## Constraints\n",
    "\n",
    "* Can we assume the inputs are valid?\n",
    "    * No\n",
    "* Can we assume the strings are ASCII?\n",
    "    * Yes\n",
    "* Is this case sensitive?\n",
    "    * Yes\n",
    "* Is a subsequence a non-contiguous block of chars?\n",
    "    * Yes\n",
    "* Do we expect a string as a result?\n",
    "    * Yes\n",
    "* Can we assume this fits memory?\n",
    "    * Yes"
   ]
  },
  {
   "cell_type": "markdown",
   "metadata": {},
   "source": [
    "## Test Cases\n",
    "\n",
    "* str0 or str1 is None -> Exception\n",
    "* str0 or str1 equals 0 -> ''\n",
    "* General case\n",
    "\n",
    "str0 = 'ABCDEFGHIJ'\n",
    "str1 = 'FOOBCDBCDE'\n",
    "\n",
    "result: 'BCDE'"
   ]
  },
  {
   "cell_type": "markdown",
   "metadata": {},
   "source": [
    "## Algorithm\n",
    "\n",
    "Refer to the [Solution Notebook]().  If you are stuck and need a hint, the solution notebook's algorithm discussion might be a good place to start."
   ]
  },
  {
   "cell_type": "markdown",
   "metadata": {},
   "source": [
    "## Code"
   ]
  },
  {
   "cell_type": "code",
   "execution_count": 1,
   "metadata": {},
   "outputs": [],
   "source": [
    "class StringCompare(object):\n",
    "\n",
    "    def __init__(self):\n",
    "        self.results = []\n",
    "        self.results_str = []\n",
    "        self.i = 0\n",
    "        self.j = 0\n",
    "    \n",
    "    def longest_common_subseq(self, str0, str1):\n",
    "        if str0 is None or str1 is None:\n",
    "            raise TypeError(\"param is None\")\n",
    "        if not len(str0) or not len(str1):\n",
    "            return ''\n",
    "        self._init_result(len(str0), len(str1))\n",
    "        self._fill_result(str0, str1)\n",
    "        return ''.join(self.results_str[self.i][self.j])\n",
    "    \n",
    "    def _init_result(self, len1, len2):\n",
    "        for i in range(len1+1):\n",
    "            self.results.append([])\n",
    "            self.results_str.append([])\n",
    "            for _ in range(len2+1):\n",
    "                self.results[i].append(0)\n",
    "                self.results_str[i].append([])\n",
    "    \n",
    "    def _fill_result(self, str0, str1):\n",
    "        len0 = len(str0)\n",
    "        len1 = len(str1)\n",
    "        max_value = 0\n",
    "        for i in range(len0+1):\n",
    "            for j in range(len1+1):\n",
    "                if not i or not j:\n",
    "                    self.results[i][j] = 0\n",
    "                    self.results_str[i][j] = []\n",
    "                    continue\n",
    "                if str0[i-1] == str1[j-1]:\n",
    "                    self.results[i][j] = self.results[i-1][j-1] + 1\n",
    "                    self.results_str[i][j].extend(self.results_str[i-1][j-1])\n",
    "                    self.results_str[i][j].append(str0[i-1])\n",
    "                    if self.results[i][j] > max_value:\n",
    "                        self.i = i\n",
    "                        self.j = j\n",
    "                        max_value = self.results[i][j]\n",
    "                else:\n",
    "                    self.results[i][j] = 0\n",
    "                    self.results_str[i][j] = []"
   ]
  },
  {
   "cell_type": "markdown",
   "metadata": {},
   "source": [
    "## Unit Test"
   ]
  },
  {
   "cell_type": "markdown",
   "metadata": {},
   "source": [
    "**The following unit test is expected to fail until you solve the challenge.**"
   ]
  },
  {
   "cell_type": "code",
   "execution_count": 2,
   "metadata": {},
   "outputs": [
    {
     "name": "stdout",
     "output_type": "stream",
     "text": [
      "Success: test_longest_common_subseq\n"
     ]
    }
   ],
   "source": [
    "# %load test_longest_common_subseq.py\n",
    "from nose.tools import assert_equal, assert_raises\n",
    "\n",
    "\n",
    "class TestLongestCommonSubseq(object):\n",
    "\n",
    "    def test_longest_common_subseq(self):\n",
    "        str_comp = StringCompare()\n",
    "        assert_raises(TypeError, str_comp.longest_common_subseq, None, None)\n",
    "        assert_equal(str_comp.longest_common_subseq('', ''), '')\n",
    "        str0 = 'ABCDEFGHIJ'\n",
    "        str1 = 'FOOBCDBCDE'\n",
    "        expected = 'BCDE'\n",
    "        assert_equal(str_comp.longest_common_subseq(str0, str1), expected)\n",
    "        print('Success: test_longest_common_subseq')\n",
    "\n",
    "\n",
    "def main():\n",
    "    test = TestLongestCommonSubseq()\n",
    "    test.test_longest_common_subseq()\n",
    "\n",
    "\n",
    "if __name__ == '__main__':\n",
    "    main()"
   ]
  },
  {
   "cell_type": "markdown",
   "metadata": {},
   "source": [
    "## Solution Notebook\n",
    "\n",
    "Review the [Solution Notebook]() for a discussion on algorithms and code solutions."
   ]
  }
 ],
 "metadata": {
  "kernelspec": {
   "display_name": "Python 3",
   "language": "python",
   "name": "python3"
  },
  "language_info": {
   "codemirror_mode": {
    "name": "ipython",
    "version": 3
   },
   "file_extension": ".py",
   "mimetype": "text/x-python",
   "name": "python",
   "nbconvert_exporter": "python",
   "pygments_lexer": "ipython3",
   "version": "3.6.2"
  }
 },
 "nbformat": 4,
 "nbformat_minor": 1
}
