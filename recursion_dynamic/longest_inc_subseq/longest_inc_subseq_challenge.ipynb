{
 "cells": [
  {
   "cell_type": "markdown",
   "metadata": {},
   "source": [
    "This notebook was prepared by [Donne Martin](https://github.com/donnemartin). Source and license info is on [GitHub](https://github.com/donnemartin/interactive-coding-challenges)."
   ]
  },
  {
   "cell_type": "markdown",
   "metadata": {},
   "source": [
    "# Challenge Notebook"
   ]
  },
  {
   "cell_type": "markdown",
   "metadata": {},
   "source": [
    "## Problem: Find the longest increasing subsequence.\n",
    "\n",
    "* [Constraints](#Constraints)\n",
    "* [Test Cases](#Test-Cases)\n",
    "* [Algorithm](#Algorithm)\n",
    "* [Code](#Code)\n",
    "* [Unit Test](#Unit-Test)\n",
    "* [Solution Notebook](#Solution-Notebook)"
   ]
  },
  {
   "cell_type": "markdown",
   "metadata": {},
   "source": [
    "## Constraints\n",
    "\n",
    "* Are duplicates possible?\n",
    "    * Yes\n",
    "* Can we assume the inputs are integers?\n",
    "    * Yes\n",
    "* Can we assume the inputs are valid?\n",
    "    * No\n",
    "* Do we expect the result to be an array of the longest increasing subsequence?\n",
    "    * Yes\n",
    "* Can we assume this fits memory?\n",
    "    * Yes"
   ]
  },
  {
   "cell_type": "markdown",
   "metadata": {},
   "source": [
    "## Test Cases\n",
    "\n",
    "* None -> Exception\n",
    "* [] -> []\n",
    "* [3, 4, -1, 0, 6, 2, 3] -> [-1, 0, 2, 3]"
   ]
  },
  {
   "cell_type": "markdown",
   "metadata": {},
   "source": [
    "## Algorithm\n",
    "\n",
    "Refer to the [Solution Notebook]().  If you are stuck and need a hint, the solution notebook's algorithm discussion might be a good place to start."
   ]
  },
  {
   "cell_type": "markdown",
   "metadata": {},
   "source": [
    "## Code"
   ]
  },
  {
   "cell_type": "code",
   "execution_count": 1,
   "metadata": {},
   "outputs": [],
   "source": [
    "class Subsequence(object):\n",
    "\n",
    "    def __init__(self):\n",
    "        self.results = []\n",
    "        self.result_seq = []\n",
    "        self.max_index = 0\n",
    "    \n",
    "    def longest_inc_subseq(self, seq):\n",
    "        if seq is None:\n",
    "            raise TypeError(\"param is None\")\n",
    "        if not seq:\n",
    "            return []\n",
    "        self._init_result(len(seq))\n",
    "        self._fill_result(seq)\n",
    "        return self.result_seq[self.max_index]\n",
    "    \n",
    "    def _init_result(self, length):\n",
    "        for _ in range(length+1):\n",
    "            self.results.append(0)\n",
    "            self.result_seq.append([])\n",
    "\n",
    "    def _fill_result(self, seq):\n",
    "        max_count = 0\n",
    "        for i in range(len(seq)):\n",
    "            if i == 0:\n",
    "                self.results[i] = 1\n",
    "                self.result_seq[i].append(seq[i])\n",
    "                max_count = 1\n",
    "                continue\n",
    "            max_temp_result = 0\n",
    "            max_j = 0\n",
    "            for j in range(0, i):\n",
    "                if seq[j] < seq[i] and self.results[j]+1 > max_temp_result:\n",
    "                    max_temp_result = self.results[j]+1\n",
    "                    max_j = j\n",
    "            if not max_temp_result:\n",
    "                self.results[i] = 1\n",
    "                self.result_seq[i].append(seq[i])\n",
    "            else:\n",
    "                self.results[i] = max_temp_result\n",
    "                self.result_seq[i].extend(self.result_seq[max_j])\n",
    "                self.result_seq[i].append(seq[i])\n",
    "            if self.results[i] > max_count:\n",
    "                max_count = self.results[i]\n",
    "                self.max_index = i"
   ]
  },
  {
   "cell_type": "markdown",
   "metadata": {},
   "source": [
    "## Unit Test"
   ]
  },
  {
   "cell_type": "markdown",
   "metadata": {},
   "source": [
    "**The following unit test is expected to fail until you solve the challenge.**"
   ]
  },
  {
   "cell_type": "code",
   "execution_count": 2,
   "metadata": {},
   "outputs": [
    {
     "name": "stdout",
     "output_type": "stream",
     "text": [
      "Success: test_longest_increasing_subseq\n"
     ]
    }
   ],
   "source": [
    "# %load test_longest_increasing_subseq.py\n",
    "from nose.tools import assert_equal, assert_raises\n",
    "\n",
    "\n",
    "class TestLongestIncreasingSubseq(object):\n",
    "\n",
    "    def test_longest_increasing_subseq(self):\n",
    "        subseq = Subsequence()\n",
    "        assert_raises(TypeError, subseq.longest_inc_subseq, None)\n",
    "        assert_equal(subseq.longest_inc_subseq([]), [])\n",
    "        seq = [3, 4, -1, 0, 6, 2, 3]\n",
    "        expected = [-1, 0, 2, 3]\n",
    "        assert_equal(subseq.longest_inc_subseq(seq), expected)\n",
    "        print('Success: test_longest_increasing_subseq')\n",
    "\n",
    "\n",
    "def main():\n",
    "    test = TestLongestIncreasingSubseq()\n",
    "    test.test_longest_increasing_subseq()\n",
    "\n",
    "\n",
    "if __name__ == '__main__':\n",
    "    main()"
   ]
  },
  {
   "cell_type": "markdown",
   "metadata": {},
   "source": [
    "## Solution Notebook\n",
    "\n",
    "Review the [Solution Notebook]() for a discussion on algorithms and code solutions."
   ]
  }
 ],
 "metadata": {
  "kernelspec": {
   "display_name": "Python 3",
   "language": "python",
   "name": "python3"
  },
  "language_info": {
   "codemirror_mode": {
    "name": "ipython",
    "version": 3
   },
   "file_extension": ".py",
   "mimetype": "text/x-python",
   "name": "python",
   "nbconvert_exporter": "python",
   "pygments_lexer": "ipython3",
   "version": "3.6.2"
  }
 },
 "nbformat": 4,
 "nbformat_minor": 1
}
