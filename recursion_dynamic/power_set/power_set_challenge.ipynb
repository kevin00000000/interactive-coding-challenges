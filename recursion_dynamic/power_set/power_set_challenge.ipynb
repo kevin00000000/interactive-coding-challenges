{
 "cells": [
  {
   "cell_type": "markdown",
   "metadata": {},
   "source": [
    "This notebook was prepared by [Donne Martin](https://github.com/donnemartin). Source and license info is on [GitHub](https://github.com/donnemartin/interactive-coding-challenges)."
   ]
  },
  {
   "cell_type": "markdown",
   "metadata": {},
   "source": [
    "# Challenge Notebook"
   ]
  },
  {
   "cell_type": "markdown",
   "metadata": {},
   "source": [
    "## Problem: Return all subsets of a set.\n",
    "\n",
    "* [Constraints](#Constraints)\n",
    "* [Test Cases](#Test-Cases)\n",
    "* [Algorithm](#Algorithm)\n",
    "* [Code](#Code)\n",
    "* [Unit Test](#Unit-Test)\n",
    "* [Solution Notebook](#Solution-Notebook)"
   ]
  },
  {
   "cell_type": "markdown",
   "metadata": {},
   "source": [
    "## Constraints\n",
    "\n",
    "* Should the resulting subsets be unique?\n",
    "    * Yes, treat 'ab' and 'bc' as the same\n",
    "* Is the empty set included as a subset?\n",
    "    * Yes\n",
    "* Are the inputs unique?\n",
    "    * No\n",
    "* Can we assume the inputs are valid?\n",
    "    * No\n",
    "* Can we assume this fits memory?\n",
    "    * Yes"
   ]
  },
  {
   "cell_type": "markdown",
   "metadata": {},
   "source": [
    "## Test Cases\n",
    "\n",
    "<pre>\n",
    "* None -> None\n",
    "* [] -> [[]]\n",
    "* ['a'] -> [[], \n",
    "            ['a']]\n",
    "* ['a', 'b'] -> [[], \n",
    "                 ['a'], \n",
    "                 ['b'], \n",
    "                 ['a', 'b']]\n",
    "* ['a', 'b', 'c'] -> [[], \n",
    "                      ['a'], \n",
    "                      ['b'], \n",
    "                      ['c'],\n",
    "                      ['a', 'b'], \n",
    "                      ['a', 'c'], \n",
    "                      ['b', 'c'],\n",
    "                      ['a', 'b', 'c']]\n",
    "</pre>"
   ]
  },
  {
   "cell_type": "markdown",
   "metadata": {},
   "source": [
    "## Algorithm\n",
    "\n",
    "Refer to the [Solution Notebook]().  If you are stuck and need a hint, the solution notebook's algorithm discussion might be a good place to start."
   ]
  },
  {
   "cell_type": "markdown",
   "metadata": {},
   "source": [
    "## Code"
   ]
  },
  {
   "cell_type": "code",
   "execution_count": 11,
   "metadata": {},
   "outputs": [],
   "source": [
    "class Combinatoric(object):\n",
    "    def __init__(self):\n",
    "        self.result = []\n",
    "\n",
    "    def find_power_set(self, input_set):\n",
    "        if input_set is None:\n",
    "            raise TypeError(\"param is None\")\n",
    "        if not input_set:\n",
    "            return ['']\n",
    "        self._init_result(len(input_set))\n",
    "        self._fill_result(input_set)\n",
    "        temp_set = set()\n",
    "        temp_set.add('')\n",
    "        l = list(sorted(self.result[len(input_set)]-temp_set))\n",
    "        l.append('')\n",
    "        return l\n",
    "    \n",
    "    def _init_result(self, n):\n",
    "        for _ in range(n+1):\n",
    "            self.result.append(set())\n",
    "\n",
    "    def _fill_result(self, input_set):\n",
    "        for i in range(len(input_set)+1):\n",
    "            if i == 0:\n",
    "                self.result[i].add('')\n",
    "                continue\n",
    "            self.result[i] |= self.result[i-1]\n",
    "            for item in self.result[i-1]:\n",
    "                self.result[i].add(item + input_set[i-1])"
   ]
  },
  {
   "cell_type": "markdown",
   "metadata": {},
   "source": [
    "## Unit Test"
   ]
  },
  {
   "cell_type": "markdown",
   "metadata": {},
   "source": [
    "**The following unit test is expected to fail until you solve the challenge.**"
   ]
  },
  {
   "cell_type": "code",
   "execution_count": 12,
   "metadata": {},
   "outputs": [
    {
     "name": "stdout",
     "output_type": "stream",
     "text": [
      "Success: test_power_set\n"
     ]
    }
   ],
   "source": [
    "# %load test_power_set.py\n",
    "class TestPowerSet(object):\n",
    "\n",
    "    def test_power_set(self):\n",
    "        input_set = ''\n",
    "        expected = ['']\n",
    "        self.run_test(input_set, expected)\n",
    "        input_set = 'a'\n",
    "        expected = ['a', '']\n",
    "        self.run_test(input_set, expected)\n",
    "        input_set = 'ab'\n",
    "        expected = ['a', 'ab', 'b', '']\n",
    "        self.run_test(input_set, expected)\n",
    "        input_set = 'abc'\n",
    "        expected = ['a', 'ab', 'abc', 'ac',\n",
    "                    'b', 'bc', 'c', '']\n",
    "        self.run_test(input_set, expected)\n",
    "        input_set = 'aabc'\n",
    "        expected = ['a', 'aa', 'aab', 'aabc', \n",
    "                    'aac', 'ab', 'abc', 'ac', \n",
    "                    'b', 'bc', 'c', '']\n",
    "        self.run_test(input_set, expected)\n",
    "        print('Success: test_power_set')\n",
    "\n",
    "    def run_test(self, input_set, expected):\n",
    "        combinatoric = Combinatoric()\n",
    "        result = combinatoric.find_power_set(input_set)\n",
    "        assert_equal(result, expected)\n",
    "\n",
    "\n",
    "def main():\n",
    "    test = TestPowerSet()\n",
    "    test.test_power_set()\n",
    "\n",
    "\n",
    "if __name__ == '__main__':\n",
    "    main()"
   ]
  },
  {
   "cell_type": "markdown",
   "metadata": {},
   "source": [
    "## Solution Notebook\n",
    "\n",
    "Review the [Solution Notebook]() for a discussion on algorithms and code solutions."
   ]
  }
 ],
 "metadata": {
  "kernelspec": {
   "display_name": "Python 3",
   "language": "python",
   "name": "python3"
  },
  "language_info": {
   "codemirror_mode": {
    "name": "ipython",
    "version": 3
   },
   "file_extension": ".py",
   "mimetype": "text/x-python",
   "name": "python",
   "nbconvert_exporter": "python",
   "pygments_lexer": "ipython3",
   "version": "3.6.4"
  }
 },
 "nbformat": 4,
 "nbformat_minor": 1
}
