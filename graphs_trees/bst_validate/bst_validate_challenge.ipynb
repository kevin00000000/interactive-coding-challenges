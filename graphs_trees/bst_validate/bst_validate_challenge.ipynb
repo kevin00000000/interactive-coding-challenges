{
 "cells": [
  {
   "cell_type": "markdown",
   "metadata": {},
   "source": [
    "This notebook was prepared by [Donne Martin](https://github.com/donnemartin). Source and license info is on [GitHub](https://github.com/donnemartin/interactive-coding-challenges)."
   ]
  },
  {
   "cell_type": "markdown",
   "metadata": {},
   "source": [
    "# Challenge Notebook"
   ]
  },
  {
   "cell_type": "markdown",
   "metadata": {},
   "source": [
    "## Problem: Determine if a tree is a valid binary search tree.\n",
    "\n",
    "* [Constraints](#Constraints)\n",
    "* [Test Cases](#Test-Cases)\n",
    "* [Algorithm](#Algorithm)\n",
    "* [Code](#Code)\n",
    "* [Unit Test](#Unit-Test)\n",
    "* [Solution Notebook](#Solution-Notebook)"
   ]
  },
  {
   "cell_type": "markdown",
   "metadata": {},
   "source": [
    "## Constraints\n",
    "\n",
    "* Can the tree have duplicates?\n",
    "    * Yes\n",
    "* If this is called on a None input, should we raise an exception?\n",
    "    * Yes\n",
    "* Can we assume we already have a Node class?\n",
    "    * Yes\n",
    "* Can we assume this fits in memory?\n",
    "    * Yes"
   ]
  },
  {
   "cell_type": "markdown",
   "metadata": {},
   "source": [
    "## Test Cases\n",
    "\n",
    "<pre>\n",
    "Valid:\n",
    "      5\n",
    "    /   \\\n",
    "   5     8\n",
    "  /     /\n",
    " 4     6\n",
    "        \\\n",
    "         7\n",
    "        \n",
    "Invalid:\n",
    "      5\n",
    "    /   \\\n",
    "   5     8\n",
    "  / \\   /\n",
    " 4   9 7\n",
    "</pre>"
   ]
  },
  {
   "cell_type": "markdown",
   "metadata": {},
   "source": [
    "## Algorithm\n",
    "\n",
    "Refer to the [Solution Notebook](http://nbviewer.ipython.org/github/donnemartin/interactive-coding-challenges/blob/master/graphs_trees/bst_validate/bst_validate_solution.ipynb).  If you are stuck and need a hint, the solution notebook's algorithm discussion might be a good place to start."
   ]
  },
  {
   "cell_type": "markdown",
   "metadata": {},
   "source": [
    "## Code"
   ]
  },
  {
   "cell_type": "code",
   "execution_count": null,
   "metadata": {},
   "outputs": [],
   "source": [
    "# %load ../bst/bst.py\n",
    "class Node(object):\n",
    "\n",
    "    def __init__(self, data):\n",
    "        self.data = data\n",
    "        self.left = None\n",
    "        self.right = None\n",
    "        self.parent = None\n",
    "\n",
    "    def __repr__(self):\n",
    "        return str(self.data)\n",
    "\n",
    "\n",
    "class Bst(object):\n",
    "\n",
    "    def __init__(self, root=None):\n",
    "        self.root = root\n",
    "\n",
    "    def insert(self, data):\n",
    "        if data is None:\n",
    "            raise TypeError('data cannot be None')\n",
    "        if self.root is None:\n",
    "            self.root = Node(data)\n",
    "            return self.root\n",
    "        else:\n",
    "            return self._insert(self.root, data)\n",
    "\n",
    "    def _insert(self, node, data):\n",
    "        if node is None:\n",
    "            return Node(data)\n",
    "        if data <= node.data:\n",
    "            if node.left is None:\n",
    "                node.left = self._insert(node.left, data)\n",
    "                node.left.parent = node\n",
    "                return node.left\n",
    "            else:\n",
    "                return self._insert(node.left, data)\n",
    "        else:\n",
    "            if node.right is None:\n",
    "                node.right = self._insert(node.right, data)\n",
    "                node.right.parent = node\n",
    "                return node.right\n",
    "            else:\n",
    "                return self._insert(node.right, data)"
   ]
  },
  {
   "cell_type": "code",
   "execution_count": 2,
   "metadata": {},
   "outputs": [],
   "source": [
    "class BstValidate_bad(Bst):\n",
    "    def __init__(self, root):\n",
    "        super().__init__(root)\n",
    "\n",
    "    def validate(self):\n",
    "        if self.root is None:\n",
    "            return True\n",
    "        return self._validate(self.root)\n",
    "\n",
    "    def _validate(self, node):\n",
    "        bValidLeft = True\n",
    "        bValidRight = True\n",
    "        if node.left is not None:\n",
    "            if self._max(node.left) <= node.data:\n",
    "                bValidLeft = self._validate(node.left)\n",
    "            else:\n",
    "                return False\n",
    "        if node.right is not None:\n",
    "            if self._min(node.right) >= node.data:\n",
    "                bValidRight = self._validate(node.right)\n",
    "            else:\n",
    "                return False\n",
    "        return bValidLeft and bValidRight\n",
    "\n",
    "    def _min(self, node):#should do sth belong to just current level, so the _min is bad.also _max\n",
    "        while node.left is not None:\n",
    "            node = node.left\n",
    "        return node.data\n",
    "\n",
    "    def _max(self, node):\n",
    "        while node.right is not None:\n",
    "            node = node.right\n",
    "        return node.data\n",
    "    \n",
    "class BstValidate(Bst):\n",
    "    def __init__(self, root):\n",
    "        super().__init__(root)\n",
    "    \n",
    "    def validate(self):\n",
    "        if self.root is None:\n",
    "            return True\n",
    "        return self._validate(self.root, -sys.maxsize, sys.maxsize)\n",
    "\n",
    "    def _validate(self, node, min, max):\n",
    "        if node is None:\n",
    "            return True\n",
    "        if node.data < min or node.data > max:\n",
    "            return False\n",
    "        valid_left = True\n",
    "        valid_right = True\n",
    "        if node.left is not None:\n",
    "            valid_left = self._validate(node.left, min, node.data)\n",
    "        if node.right is not None:\n",
    "            valid_right = self._validate(node.right, node.data, max)\n",
    "        return valid_left and valid_right"
   ]
  },
  {
   "cell_type": "markdown",
   "metadata": {},
   "source": [
    "## Unit Test"
   ]
  },
  {
   "cell_type": "markdown",
   "metadata": {},
   "source": [
    "**The following unit test is expected to fail until you solve the challenge.**"
   ]
  },
  {
   "cell_type": "code",
   "execution_count": 3,
   "metadata": {},
   "outputs": [
    {
     "name": "stdout",
     "output_type": "stream",
     "text": [
      "Success: test_bst_validate\n"
     ]
    }
   ],
   "source": [
    "# %load test_bst_validate.py\n",
    "from nose.tools import assert_equal\n",
    "from nose.tools import raises\n",
    "\n",
    "\n",
    "class TestBstValidate(object):\n",
    "\n",
    "    @raises(Exception)\n",
    "    def test_bst_validate_empty(self):\n",
    "        validate_bst(None)\n",
    "\n",
    "    def test_bst_validate(self):\n",
    "        bst = BstValidate(Node(5))\n",
    "        bst.insert(8)\n",
    "        bst.insert(5)\n",
    "        bst.insert(6)\n",
    "        bst.insert(4)\n",
    "        bst.insert(7)\n",
    "        assert_equal(bst.validate(), True)\n",
    "\n",
    "        bst = BstValidate(Node(5))\n",
    "        left = Node(5)\n",
    "        right = Node(8)\n",
    "        invalid = Node(20)\n",
    "        bst.root.left = left\n",
    "        bst.root.right = right\n",
    "        bst.root.left.right = invalid\n",
    "        assert_equal(bst.validate(), False)\n",
    "\n",
    "        print('Success: test_bst_validate')\n",
    "\n",
    "\n",
    "def main():\n",
    "    test = TestBstValidate()\n",
    "    test.test_bst_validate_empty()\n",
    "    test.test_bst_validate()\n",
    "\n",
    "\n",
    "if __name__ == '__main__':\n",
    "    main()"
   ]
  },
  {
   "cell_type": "markdown",
   "metadata": {},
   "source": [
    "## Solution Notebook\n",
    "\n",
    "Review the [Solution Notebook](http://nbviewer.ipython.org/github/donnemartin/interactive-coding-challenges/blob/master/graphs_trees/bst_validate/bst_validate_solution.ipynb) for a discussion on algorithms and code solutions."
   ]
  }
 ],
 "metadata": {
  "kernelspec": {
   "display_name": "Python 3",
   "language": "python",
   "name": "python3"
  },
  "language_info": {
   "codemirror_mode": {
    "name": "ipython",
    "version": 3
   },
   "file_extension": ".py",
   "mimetype": "text/x-python",
   "name": "python",
   "nbconvert_exporter": "python",
   "pygments_lexer": "ipython3",
   "version": "3.6.2"
  }
 },
 "nbformat": 4,
 "nbformat_minor": 1
}
