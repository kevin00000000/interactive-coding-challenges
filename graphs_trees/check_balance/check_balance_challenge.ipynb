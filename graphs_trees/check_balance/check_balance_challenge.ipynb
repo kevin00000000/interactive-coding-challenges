{
 "cells": [
  {
   "cell_type": "markdown",
   "metadata": {},
   "source": [
    "This notebook was prepared by [Donne Martin](https://github.com/donnemartin). Source and license info is on [GitHub](https://github.com/donnemartin/interactive-coding-challenges)."
   ]
  },
  {
   "cell_type": "markdown",
   "metadata": {},
   "source": [
    "# Challenge Notebook"
   ]
  },
  {
   "cell_type": "markdown",
   "metadata": {},
   "source": [
    "## Problem: Check if a binary tree is balanced.\n",
    "\n",
    "* [Constraints](#Constraints)\n",
    "* [Test Cases](#Test-Cases)\n",
    "* [Algorithm](#Algorithm)\n",
    "* [Code](#Code)\n",
    "* [Unit Test](#Unit-Test)\n",
    "* [Solution Notebook](#Solution-Notebook)"
   ]
  },
  {
   "cell_type": "markdown",
   "metadata": {},
   "source": [
    "## Constraints\n",
    "\n",
    "* Is a balanced tree one where the heights of two sub trees of any node doesn't differ by more than 1?\n",
    "    * Yes\n",
    "* If this is called on a None input, should we raise an exception?\n",
    "    * Yes\n",
    "* Can we assume we already have a Node class with an insert method?\n",
    "    * Yes\n",
    "* Can we assume this fits memory?\n",
    "    * Yes"
   ]
  },
  {
   "cell_type": "markdown",
   "metadata": {},
   "source": [
    "## Test Cases\n",
    "\n",
    "* None -> No\n",
    "* 1 -> Yes\n",
    "* 5, 3, 8, 1, 4 -> Yes\n",
    "* 5, 3, 8, 9, 10 -> No"
   ]
  },
  {
   "cell_type": "markdown",
   "metadata": {},
   "source": [
    "## Algorithm\n",
    "\n",
    "Refer to the [Solution Notebook](http://nbviewer.ipython.org/github/donnemartin/interactive-coding-challenges/blob/master/graphs_trees/check_balance/check_balance_solution.ipynb).  If you are stuck and need a hint, the solution notebook's algorithm discussion might be a good place to start."
   ]
  },
  {
   "cell_type": "markdown",
   "metadata": {},
   "source": [
    "## Code"
   ]
  },
  {
   "cell_type": "code",
   "execution_count": null,
   "metadata": {},
   "outputs": [],
   "source": [
    "# %load ../bst/bst.py\n",
    "class Node(object):\n",
    "\n",
    "    def __init__(self, data):\n",
    "        self.data = data\n",
    "        self.left = None\n",
    "        self.right = None\n",
    "        self.parent = None\n",
    "\n",
    "    def __repr__(self):\n",
    "        return str(self.data)\n",
    "\n",
    "\n",
    "class Bst(object):\n",
    "\n",
    "    def __init__(self, root=None):\n",
    "        self.root = root\n",
    "\n",
    "    def insert(self, data):\n",
    "        if data is None:\n",
    "            raise TypeError('data cannot be None')\n",
    "        if self.root is None:\n",
    "            self.root = Node(data)\n",
    "            return self.root\n",
    "        else:\n",
    "            return self._insert(self.root, data)\n",
    "\n",
    "    def _insert(self, node, data):\n",
    "        if node is None:\n",
    "            return Node(data)\n",
    "        if data <= node.data:\n",
    "            if node.left is None:\n",
    "                node.left = self._insert(node.left, data)\n",
    "                node.left.parent = node\n",
    "                return node.left\n",
    "            else:\n",
    "                return self._insert(node.left, data)\n",
    "        else:\n",
    "            if node.right is None:\n",
    "                node.right = self._insert(node.right, data)\n",
    "                node.right.parent = node\n",
    "                return node.right\n",
    "            else:\n",
    "                return self._insert(node.right, data)"
   ]
  },
  {
   "cell_type": "code",
   "execution_count": 2,
   "metadata": {},
   "outputs": [],
   "source": [
    "class BstBalance(Bst):\n",
    "    def __init__(self, root):\n",
    "        super().__init__(root)\n",
    "    \n",
    "    def check_balance(self):\n",
    "        if self.root is None:\n",
    "            raise TypeError(\"Can't check empty tree\")\n",
    "        height = self._check_balance(self.root)\n",
    "        return height != -1\n",
    "\n",
    "    def _check_balance(self, node):\n",
    "        if node is None:\n",
    "            return 0\n",
    "        height_left = self._check_balance(node.left)\n",
    "        if height_left == -1:\n",
    "            return -1\n",
    "        height_right = self._check_balance(node.right)\n",
    "        if height_right == -1:\n",
    "            return -1\n",
    "        diff = abs(height_right-height_left)\n",
    "        if diff > 1:\n",
    "            return -1\n",
    "        height = 1 + max(height_left, height_right)\n",
    "        return height"
   ]
  },
  {
   "cell_type": "markdown",
   "metadata": {},
   "source": [
    "## Unit Test"
   ]
  },
  {
   "cell_type": "markdown",
   "metadata": {},
   "source": [
    "**The following unit test is expected to fail until you solve the challenge.**"
   ]
  },
  {
   "cell_type": "code",
   "execution_count": 3,
   "metadata": {},
   "outputs": [
    {
     "name": "stdout",
     "output_type": "stream",
     "text": [
      "Success: test_check_balance\n"
     ]
    }
   ],
   "source": [
    "# %load test_check_balance.py\n",
    "from nose.tools import assert_equal\n",
    "from nose.tools import raises\n",
    "\n",
    "\n",
    "class TestCheckBalance(object):\n",
    "\n",
    "    @raises(TypeError)\n",
    "    def test_check_balance_empty(self):\n",
    "        bst = BstBalance(None)\n",
    "        bst.check_balance()\n",
    "\n",
    "    def test_check_balance(self):\n",
    "        bst = BstBalance(Node(5))\n",
    "        assert_equal(bst.check_balance(), True)\n",
    "\n",
    "        bst.insert(3)\n",
    "        bst.insert(8)\n",
    "        bst.insert(1)\n",
    "        bst.insert(4)\n",
    "        assert_equal(bst.check_balance(), True)\n",
    "\n",
    "        bst = BstBalance(Node(5))\n",
    "        bst.insert(3)\n",
    "        bst.insert(8)\n",
    "        bst.insert(9)\n",
    "        bst.insert(10)\n",
    "        assert_equal(bst.check_balance(), False)\n",
    "\n",
    "        bst = BstBalance(Node(3))\n",
    "        bst.insert(2)\n",
    "        bst.insert(1)\n",
    "        bst.insert(5)\n",
    "        bst.insert(4)\n",
    "        bst.insert(6)\n",
    "        bst.insert(7)\n",
    "        assert_equal(bst.check_balance(), True)\n",
    "\n",
    "        print('Success: test_check_balance')\n",
    "\n",
    "\n",
    "def main():\n",
    "    test = TestCheckBalance()\n",
    "    test.test_check_balance_empty()\n",
    "    test.test_check_balance()\n",
    "\n",
    "\n",
    "if __name__ == '__main__':\n",
    "    main()"
   ]
  },
  {
   "cell_type": "markdown",
   "metadata": {},
   "source": [
    "## Solution Notebook\n",
    "\n",
    "Review the [Solution Notebook](http://nbviewer.ipython.org/github/donnemartin/interactive-coding-challenges/blob/master/graphs_trees/check_balance/check_balance_solution.ipynb) for a discussion on algorithms and code solutions."
   ]
  }
 ],
 "metadata": {
  "kernelspec": {
   "display_name": "Python 3",
   "language": "python",
   "name": "python3"
  },
  "language_info": {
   "codemirror_mode": {
    "name": "ipython",
    "version": 3
   },
   "file_extension": ".py",
   "mimetype": "text/x-python",
   "name": "python",
   "nbconvert_exporter": "python",
   "pygments_lexer": "ipython3",
   "version": "3.6.2"
  }
 },
 "nbformat": 4,
 "nbformat_minor": 1
}
