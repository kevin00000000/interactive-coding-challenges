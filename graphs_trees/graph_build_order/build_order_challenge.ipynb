{
 "cells": [
  {
   "cell_type": "markdown",
   "metadata": {},
   "source": [
    "This notebook was prepared by [Donne Martin](https://github.com/donnemartin). Source and license info is on [GitHub](https://github.com/donnemartin/interactive-coding-challenges)."
   ]
  },
  {
   "cell_type": "markdown",
   "metadata": {},
   "source": [
    "# Challenge Notebook"
   ]
  },
  {
   "cell_type": "markdown",
   "metadata": {},
   "source": [
    "## Problem: Find a build order given a list of projects and dependencies.\n",
    "\n",
    "* [Constraints](#Constraints)\n",
    "* [Test Cases](#Test-Cases)\n",
    "* [Algorithm](#Algorithm)\n",
    "* [Code](#Code)\n",
    "* [Unit Test](#Unit-Test)\n",
    "* [Solution Notebook](#Solution-Notebook)"
   ]
  },
  {
   "cell_type": "markdown",
   "metadata": {},
   "source": [
    "## Constraints\n",
    "\n",
    "* Is it possible to have a cyclic graph as the input?\n",
    "    * Yes\n",
    "* Can we assume we already have Graph and Node classes?\n",
    "    * Yes\n",
    "* Can we assume this is a connected graph?\n",
    "    * Yes\n",
    "* Can we assume the inputs are valid?\n",
    "    * Yes\n",
    "* Can we assume this fits memory?\n",
    "    * Yes"
   ]
  },
  {
   "cell_type": "markdown",
   "metadata": {},
   "source": [
    "## Test Cases\n",
    "\n",
    "* projects: a, b, c, d, e, f, g\n",
    "* dependencies: (d, g), (f, c), (f, b), (f, a), (c, a), (b, a), (a, e), (b, e)\n",
    "* output: d, f, c, b, g, a, e\n",
    "\n",
    "Note: Edge direction is down\n",
    "<pre>\n",
    "    f     d\n",
    "   /|\\    |\n",
    "  c | b   g\n",
    "   \\|/|\n",
    "    a |\n",
    "    |/\n",
    "    e\n",
    "</pre>\n",
    "\n",
    "Test a graph with a cycle, output should be None"
   ]
  },
  {
   "cell_type": "markdown",
   "metadata": {},
   "source": [
    "## Algorithm\n",
    "\n",
    "Refer to the [Solution Notebook](https://github.com/donnemartin/interactive-coding-challenges/graphs_trees/build_order/build_order_solution.ipynb).  If you are stuck and need a hint, the solution notebook's algorithm discussion might be a good place to start."
   ]
  },
  {
   "cell_type": "markdown",
   "metadata": {},
   "source": [
    "## Code"
   ]
  },
  {
   "cell_type": "code",
   "execution_count": 1,
   "metadata": {},
   "outputs": [],
   "source": [
    "class Dependency(object):\n",
    "\n",
    "    def __init__(self, node_key_before, node_key_after):\n",
    "        self.node_key_before = node_key_before\n",
    "        self.node_key_after = node_key_after"
   ]
  },
  {
   "cell_type": "code",
   "execution_count": null,
   "metadata": {},
   "outputs": [],
   "source": [
    "# %load ../graph/graph.py\n",
    "from enum import Enum  # Python 2 users: Run pip install enum34\n",
    "\n",
    "\n",
    "class State(Enum):\n",
    "    unvisited = 0\n",
    "    visiting = 1\n",
    "    visited = 2\n",
    "\n",
    "\n",
    "class Node:\n",
    "\n",
    "    def __init__(self, key):\n",
    "        self.key = key\n",
    "        self.visit_state = State.unvisited\n",
    "        self.incoming_edges = 0\n",
    "        self.adj_nodes = {}  # Key = key, val = Node\n",
    "        self.adj_weights = {}  # Key = key, val = weight\n",
    "\n",
    "    def __repr__(self):\n",
    "        return str(self.key)\n",
    "\n",
    "    def __lt__(self, other):\n",
    "        return self.key < other.key\n",
    "\n",
    "    def add_neighbor(self, neighbor, weight=0):\n",
    "        if neighbor is None or weight is None:\n",
    "            raise TypeError('neighbor or weight cannot be None')\n",
    "        neighbor.incoming_edges += 1\n",
    "        self.adj_weights[neighbor.key] = weight\n",
    "        self.adj_nodes[neighbor.key] = neighbor\n",
    "\n",
    "    def remove_neighbor(self, neighbor):\n",
    "        if neighbor is None:\n",
    "            raise TypeError('neighbor cannot be None')\n",
    "        if neighbor.key not in self.adj_nodes:\n",
    "            raise KeyError('neighbor not found')\n",
    "        neighbor.incoming_edges -= 1\n",
    "        del self.adj_weights[neighbor.key]\n",
    "        del self.adj_nodes[neighbor.key]\n",
    "\n",
    "\n",
    "class Graph:\n",
    "\n",
    "    def __init__(self):\n",
    "        self.nodes = {}  # Key = key, val = Node\n",
    "\n",
    "    def add_node(self, key):\n",
    "        if key is None:\n",
    "            raise TypeError('key cannot be None')\n",
    "        if key not in self.nodes:\n",
    "            self.nodes[key] = Node(key)\n",
    "        return self.nodes[key]\n",
    "\n",
    "    def add_edge(self, source_key, dest_key, weight=0):\n",
    "        if source_key is None or dest_key is None:\n",
    "            raise KeyError('Invalid key')\n",
    "        if source_key not in self.nodes:\n",
    "            self.add_node(source_key)\n",
    "        if dest_key not in self.nodes:\n",
    "            self.add_node(dest_key)\n",
    "        self.nodes[source_key].add_neighbor(self.nodes[dest_key], weight)\n",
    "\n",
    "    def add_undirected_edge(self, src_key, dst_key, weight=0):\n",
    "        if src_key is None or dst_key is None:\n",
    "            raise TypeError('key cannot be None')\n",
    "        self.add_edge(src_key, dst_key, weight)\n",
    "        self.add_edge(dst_key, src_key, weight)"
   ]
  },
  {
   "cell_type": "code",
   "execution_count": 3,
   "metadata": {},
   "outputs": [],
   "source": [
    "class BuildOrder(object):\n",
    "\n",
    "    def __init__(self, dependencies):\n",
    "        # TODO: Implement me\n",
    "        self.graph = Graph()\n",
    "        for dep in dependencies:\n",
    "            self.graph.add_edge(dep.node_key_before, dep.node_key_after)\n",
    "        self.order_list = []\n",
    "        self.order = []\n",
    "        self.incoming_edges_0 = []\n",
    "        self.stack = []\n",
    "        self.marked = {}\n",
    "        self._find_all_0_incoming_edges()\n",
    "\n",
    "    def _find_all_0_incoming_edges(self):\n",
    "        for node in self.graph.nodes.values():\n",
    "            if node.incoming_edges == 0:\n",
    "                self.incoming_edges_0.append(node)\n",
    "\n",
    "    def find_build_order(self):\n",
    "        # TODO: Implement me\n",
    "        try:\n",
    "            for node in self.incoming_edges_0:\n",
    "                order = []\n",
    "                if node.key not in self.marked:\n",
    "                    self._find_build_order(node, order)\n",
    "                self.order_list.append(order)\n",
    "        except ValueError:\n",
    "            return None\n",
    "        index = 0\n",
    "        while True:\n",
    "            count = 0\n",
    "            for order in self.order_list:\n",
    "                if len(order) > index:\n",
    "                    self.order.append(order[index])\n",
    "                    count += 1\n",
    "            if count == 0:\n",
    "                break\n",
    "            index += 1\n",
    "        if len(self.order) != len(self.graph.nodes):\n",
    "            return None\n",
    "        return self.order\n",
    "        \n",
    "        \n",
    "                \n",
    "    \n",
    "    def _find_build_order(self, node, order):\n",
    "        if node.key in self.stack:\n",
    "            raise ValueError(\"Has Cycle\")\n",
    "        self.stack.append(node.key)\n",
    "        self.marked[node.key] = True\n",
    "        for key, next_node in node.adj_nodes.items():\n",
    "            if key not in self.marked:\n",
    "                self._find_build_order(next_node, order)\n",
    "        self.stack.pop()\n",
    "        order.insert(0, node)"
   ]
  },
  {
   "cell_type": "markdown",
   "metadata": {},
   "source": [
    "## Unit Test"
   ]
  },
  {
   "cell_type": "markdown",
   "metadata": {},
   "source": [
    "**The following unit test is expected to fail until you solve the challenge.**"
   ]
  },
  {
   "cell_type": "code",
   "execution_count": 4,
   "metadata": {},
   "outputs": [
    {
     "name": "stdout",
     "output_type": "stream",
     "text": [
      "Success: test_build_order\n",
      "Success: test_build_order_circular\n"
     ]
    }
   ],
   "source": [
    "# %load test_build_order.py\n",
    "from nose.tools import assert_equal\n",
    "from nose.tools import assert_true\n",
    "\n",
    "\n",
    "class TestBuildOrder(object):\n",
    "\n",
    "    def __init__(self):\n",
    "        self.dependencies = [\n",
    "            Dependency('d', 'g'),\n",
    "            Dependency('f', 'c'),\n",
    "            Dependency('f', 'b'),\n",
    "            Dependency('f', 'a'),\n",
    "            Dependency('c', 'a'),\n",
    "            Dependency('b', 'a'),\n",
    "            Dependency('a', 'e'),\n",
    "            Dependency('b', 'e'),\n",
    "        ]\n",
    "\n",
    "    def test_build_order(self):\n",
    "        build_order = BuildOrder(self.dependencies)\n",
    "        processed_nodes = build_order.find_build_order()\n",
    "\n",
    "        expected_result0 = ('d', 'f')\n",
    "        expected_result1 = ('c', 'b', 'g')\n",
    "        assert_true(processed_nodes[0].key in expected_result0)\n",
    "        assert_true(processed_nodes[1].key in expected_result0)\n",
    "        assert_true(processed_nodes[2].key in expected_result1)\n",
    "        assert_true(processed_nodes[3].key in expected_result1)\n",
    "        assert_true(processed_nodes[4].key in expected_result1)\n",
    "        assert_true(processed_nodes[5].key is 'a')\n",
    "        assert_true(processed_nodes[6].key is 'e')\n",
    "\n",
    "        print('Success: test_build_order')\n",
    "\n",
    "    def test_build_order_circular(self):\n",
    "        self.dependencies.append(Dependency('e', 'f'))\n",
    "        build_order = BuildOrder(self.dependencies)\n",
    "        processed_nodes = build_order.find_build_order()\n",
    "        assert_true(processed_nodes is None)\n",
    "\n",
    "        print('Success: test_build_order_circular')\n",
    "\n",
    "\n",
    "def main():\n",
    "    test = TestBuildOrder()\n",
    "    test.test_build_order()\n",
    "    test.test_build_order_circular()\n",
    "\n",
    "\n",
    "if __name__ == '__main__':\n",
    "    main()"
   ]
  },
  {
   "cell_type": "markdown",
   "metadata": {},
   "source": [
    "## Solution Notebook\n",
    "\n",
    "Review the [Solution Notebook](https://github.com/donnemartin/interactive-coding-challenges/graphs_trees/build_order/build_order_solution.ipynb) for a discussion on algorithms and code solutions."
   ]
  }
 ],
 "metadata": {
  "kernelspec": {
   "display_name": "Python 3",
   "language": "python",
   "name": "python3"
  },
  "language_info": {
   "codemirror_mode": {
    "name": "ipython",
    "version": 3
   },
   "file_extension": ".py",
   "mimetype": "text/x-python",
   "name": "python",
   "nbconvert_exporter": "python",
   "pygments_lexer": "ipython3",
   "version": "3.6.4"
  }
 },
 "nbformat": 4,
 "nbformat_minor": 1
}
